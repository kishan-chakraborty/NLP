{
 "cells": [
  {
   "cell_type": "code",
   "execution_count": 4,
   "metadata": {},
   "outputs": [],
   "source": [
    "import numpy as np\n",
    "from nltk.corpus import stopwords\n",
    "from nltk import WordNetLemmatizer\n",
    "from nltk.stem import PorterStemmer\n",
    "from nltk.tokenize import word_tokenize, sent_tokenize\n",
    "import re"
   ]
  },
  {
   "cell_type": "code",
   "execution_count": 2,
   "metadata": {},
   "outputs": [],
   "source": [
    "doc= \"\"\" \n",
    "    The Ramayana is an ancient Sanskrit epic which follows Prince Rama's quest to rescue his beloved wife Sita \n",
    "    from the clutches of Ravana with the help of an army of monkeys. It is traditionally attributed to the \n",
    "    authorship of the sage Valmiki and dated to around 500 BCE to 100 BCE.\n",
    "    Comprising 24,000 verses in seven cantos, the epic contains the teachings of the very ancient Hindu sages. \n",
    "    One of the most important literary works of ancient India, it has greatly influenced art and culture in the \n",
    "    Indian subcontinent and South East Asia, with versions of the story also appearing in the Buddhist canon from \n",
    "    a very early date. The story of Rama has constantly been retold in poetic and dramatic versions by some of \n",
    "    India's greatest writers and also in narrative sculptures on temple walls. It is one of the staples of later \n",
    "    dramatic traditions, re-enacted in dance-dramas, village theatre, shadow-puppet theatre and the annual Ram-lila.\n",
    "\"\"\""
   ]
  },
  {
   "cell_type": "code",
   "execution_count": 5,
   "metadata": {},
   "outputs": [],
   "source": [
    "doc= doc.lower()\n",
    "sentences= sent_tokenize(doc)"
   ]
  },
  {
   "cell_type": "code",
   "execution_count": 6,
   "metadata": {},
   "outputs": [],
   "source": [
    "lemmatizer= WordNetLemmatizer()"
   ]
  },
  {
   "cell_type": "code",
   "execution_count": 7,
   "metadata": {},
   "outputs": [],
   "source": [
    "length= len(sentences)\n",
    "corpus= []\n",
    "for i in range(length):\n",
    "    sentence= sentences[i]\n",
    "    sentence= re.sub('[^a-zA-Z]', ' ', sentence)\n",
    "    words= sentence.split()\n",
    "    words= [lemmatizer.lemmatize(word) for word in words if word not in set(stopwords.words('english'))]\n",
    "    sentence= ' '.join(words)\n",
    "    corpus.append(sentence)"
   ]
  },
  {
   "cell_type": "code",
   "execution_count": 11,
   "metadata": {},
   "outputs": [],
   "source": [
    "from sklearn.feature_extraction.text import TfidfVectorizer\n",
    "vectorizer= TfidfVectorizer()\n",
    "X= vectorizer.fit_transform(corpus).toarray()"
   ]
  },
  {
   "cell_type": "code",
   "execution_count": 13,
   "metadata": {},
   "outputs": [
    {
     "data": {
      "text/plain": [
       "(6, 77)"
      ]
     },
     "execution_count": 13,
     "metadata": {},
     "output_type": "execute_result"
    }
   ],
   "source": [
    "X.shape"
   ]
  },
  {
   "cell_type": "code",
   "execution_count": null,
   "metadata": {},
   "outputs": [],
   "source": []
  }
 ],
 "metadata": {
  "interpreter": {
   "hash": "c569cd2e17f62341e0f08a54f9a867c3c0d3a6f67454072d7de41a8b5dff8343"
  },
  "kernelspec": {
   "display_name": "Python 3.9.6 64-bit",
   "language": "python",
   "name": "python3"
  },
  "language_info": {
   "codemirror_mode": {
    "name": "ipython",
    "version": 3
   },
   "file_extension": ".py",
   "mimetype": "text/x-python",
   "name": "python",
   "nbconvert_exporter": "python",
   "pygments_lexer": "ipython3",
   "version": "3.9.6"
  },
  "orig_nbformat": 4
 },
 "nbformat": 4,
 "nbformat_minor": 2
}
