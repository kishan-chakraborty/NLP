{
 "cells": [
  {
   "cell_type": "code",
   "execution_count": 3,
   "metadata": {},
   "outputs": [],
   "source": [
    "from nltk import sent_tokenize, word_tokenize\n",
    "from nltk.stem import PorterStemmer\n",
    "from nltk.corpus import stopwords"
   ]
  },
  {
   "cell_type": "code",
   "execution_count": 2,
   "metadata": {},
   "outputs": [],
   "source": [
    "doc= \"\"\"\n",
    "    The Ramayana is an ancient Sanskrit epic which follows Prince Rama's quest to rescue his beloved wife Sita \n",
    "    from the clutches of Ravana with the help of an army of monkeys. It is traditionally attributed to the \n",
    "    authorship of the sage Valmiki and dated to around 500 BCE to 100 BCE.\n",
    "    Comprising 24,000 verses in seven cantos, the epic contains the teachings of the very ancient Hindu sages. \n",
    "    One of the most important literary works of ancient India, it has greatly influenced art and culture in the \n",
    "    Indian subcontinent and South East Asia, with versions of the story also appearing in the Buddhist canon from \n",
    "    a very early date. The story of Rama has constantly been retold in poetic and dramatic versions by some of \n",
    "    India's greatest writers and also in narrative sculptures on temple walls. It is one of the staples of later \n",
    "    dramatic traditions, re-enacted in dance-dramas, village theatre, shadow-puppet theatre and the annual Ram-lila.\n",
    " \"\"\""
   ]
  },
  {
   "cell_type": "code",
   "execution_count": 6,
   "metadata": {},
   "outputs": [],
   "source": [
    "sentences= sent_tokenize(doc)\n",
    "stemmer= PorterStemmer()"
   ]
  },
  {
   "cell_type": "code",
   "execution_count": 11,
   "metadata": {},
   "outputs": [],
   "source": [
    "# Stemming the dcument\n",
    "for i in range(len(sentences)):\n",
    "    sentence= sentences[i].lower()\n",
    "    words= word_tokenize(sentence)\n",
    "    words= [stemmer.stem(word) for word in words if word not in set(stopwords.words('english'))]\n",
    "    sentences[i]= ' '.join(words)"
   ]
  },
  {
   "cell_type": "code",
   "execution_count": 24,
   "metadata": {},
   "outputs": [
    {
     "data": {
      "text/plain": [
       "str"
      ]
     },
     "execution_count": 24,
     "metadata": {},
     "output_type": "execute_result"
    }
   ],
   "source": [
    "type(sentences[0])"
   ]
  },
  {
   "cell_type": "code",
   "execution_count": 15,
   "metadata": {},
   "outputs": [],
   "source": [
    "#Lemmatization and removing stopwords\n",
    "from nltk.stem import WordNetLemmatizer\n",
    "lemmatizer= WordNetLemmatizer()"
   ]
  },
  {
   "cell_type": "code",
   "execution_count": 26,
   "metadata": {},
   "outputs": [],
   "source": [
    "for i in range(len(sentences)):\n",
    "    sentence= sentences[i]\n",
    "    words= word_tokenize(sentence)\n",
    "    words= [lemmatizer.lemmatize(word) for word in words if word not in set(stopwords.words('english'))]\n",
    "    sentences[i]= ' '.join(words)"
   ]
  },
  {
   "cell_type": "code",
   "execution_count": 27,
   "metadata": {},
   "outputs": [
    {
     "data": {
      "text/plain": [
       "[\"ramayana ancient sanskrit epic follow princ rama 's quest rescu belov wife sita clutch ravana help armi monkey .\",\n",
       " 'tradit attribut authorship sage valmiki date around 500 bce 100 bce .',\n",
       " 'compri 24,000 ver seven canto , epic contain teach ancient hindu sage .',\n",
       " 'one import literari work ancient india , greatli influenc art cultur indian subcontin south east asia , version stori also appear buddhist canon earli date .',\n",
       " \"stori rama constantli retold poetic dramat version india 's greatest writer also narr sculptur templ wall .\",\n",
       " 'one stapl later dramat tradit , re-enact dance-drama , villag theatr , shadow-puppet theatr annual ram-lila .']"
      ]
     },
     "execution_count": 27,
     "metadata": {},
     "output_type": "execute_result"
    }
   ],
   "source": [
    "sentences"
   ]
  },
  {
   "cell_type": "code",
   "execution_count": null,
   "metadata": {},
   "outputs": [],
   "source": []
  }
 ],
 "metadata": {
  "interpreter": {
   "hash": "c569cd2e17f62341e0f08a54f9a867c3c0d3a6f67454072d7de41a8b5dff8343"
  },
  "kernelspec": {
   "display_name": "Python 3.9.6 64-bit",
   "language": "python",
   "name": "python3"
  },
  "language_info": {
   "codemirror_mode": {
    "name": "ipython",
    "version": 3
   },
   "file_extension": ".py",
   "mimetype": "text/x-python",
   "name": "python",
   "nbconvert_exporter": "python",
   "pygments_lexer": "ipython3",
   "version": "3.9.6"
  },
  "orig_nbformat": 4
 },
 "nbformat": 4,
 "nbformat_minor": 2
}
