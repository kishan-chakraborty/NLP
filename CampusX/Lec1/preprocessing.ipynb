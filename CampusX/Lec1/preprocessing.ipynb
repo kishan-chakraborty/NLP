{
 "cells": [
  {
   "cell_type": "code",
   "execution_count": 1,
   "metadata": {},
   "outputs": [],
   "source": [
    "import re\n",
    "import pandas as pd"
   ]
  },
  {
   "cell_type": "code",
   "execution_count": 3,
   "metadata": {},
   "outputs": [
    {
     "data": {
      "text/plain": [
       "<bound method NDFrame.head of                                                   review sentiment\n",
       "0      One of the other reviewers has mentioned that ...  positive\n",
       "1      A wonderful little production. <br /><br />The...  positive\n",
       "2      I thought this was a wonderful way to spend ti...  positive\n",
       "3      Basically there's a family where a little boy ...  negative\n",
       "4      Petter Mattei's \"Love in the Time of Money\" is...  positive\n",
       "...                                                  ...       ...\n",
       "49995  I thought this movie did a down right good job...  positive\n",
       "49996  Bad plot, bad dialogue, bad acting, idiotic di...  negative\n",
       "49997  I am a Catholic taught in parochial elementary...  negative\n",
       "49998  I'm going to have to disagree with the previou...  negative\n",
       "49999  No one expects the Star Trek movies to be high...  negative\n",
       "\n",
       "[50000 rows x 2 columns]>"
      ]
     },
     "execution_count": 3,
     "metadata": {},
     "output_type": "execute_result"
    }
   ],
   "source": [
    "# Read Data\n",
    "raw_data = pd.read_csv('../../Data/IMDB Dataset.csv')\n",
    "raw_data.head"
   ]
  },
  {
   "cell_type": "code",
   "execution_count": 4,
   "metadata": {},
   "outputs": [
    {
     "name": "stdout",
     "output_type": "stream",
     "text": [
      "Index(['review', 'sentiment'], dtype='object')\n",
      "(50000, 2)\n"
     ]
    }
   ],
   "source": [
    "# Columns\n",
    "print(raw_data.columns)\n",
    "# Data size\n",
    "print(raw_data.shape)"
   ]
  },
  {
   "cell_type": "code",
   "execution_count": 5,
   "metadata": {},
   "outputs": [
    {
     "data": {
      "text/html": [
       "<div>\n",
       "<style scoped>\n",
       "    .dataframe tbody tr th:only-of-type {\n",
       "        vertical-align: middle;\n",
       "    }\n",
       "\n",
       "    .dataframe tbody tr th {\n",
       "        vertical-align: top;\n",
       "    }\n",
       "\n",
       "    .dataframe thead th {\n",
       "        text-align: right;\n",
       "    }\n",
       "</style>\n",
       "<table border=\"1\" class=\"dataframe\">\n",
       "  <thead>\n",
       "    <tr style=\"text-align: right;\">\n",
       "      <th></th>\n",
       "      <th>review</th>\n",
       "      <th>sentiment</th>\n",
       "    </tr>\n",
       "  </thead>\n",
       "  <tbody>\n",
       "    <tr>\n",
       "      <th>0</th>\n",
       "      <td>one of the other reviewers has mentioned that ...</td>\n",
       "      <td>positive</td>\n",
       "    </tr>\n",
       "    <tr>\n",
       "      <th>1</th>\n",
       "      <td>a wonderful little production. &lt;br /&gt;&lt;br /&gt;the...</td>\n",
       "      <td>positive</td>\n",
       "    </tr>\n",
       "    <tr>\n",
       "      <th>2</th>\n",
       "      <td>i thought this was a wonderful way to spend ti...</td>\n",
       "      <td>positive</td>\n",
       "    </tr>\n",
       "    <tr>\n",
       "      <th>3</th>\n",
       "      <td>basically there's a family where a little boy ...</td>\n",
       "      <td>negative</td>\n",
       "    </tr>\n",
       "    <tr>\n",
       "      <th>4</th>\n",
       "      <td>petter mattei's \"love in the time of money\" is...</td>\n",
       "      <td>positive</td>\n",
       "    </tr>\n",
       "    <tr>\n",
       "      <th>...</th>\n",
       "      <td>...</td>\n",
       "      <td>...</td>\n",
       "    </tr>\n",
       "    <tr>\n",
       "      <th>49995</th>\n",
       "      <td>i thought this movie did a down right good job...</td>\n",
       "      <td>positive</td>\n",
       "    </tr>\n",
       "    <tr>\n",
       "      <th>49996</th>\n",
       "      <td>bad plot, bad dialogue, bad acting, idiotic di...</td>\n",
       "      <td>negative</td>\n",
       "    </tr>\n",
       "    <tr>\n",
       "      <th>49997</th>\n",
       "      <td>i am a catholic taught in parochial elementary...</td>\n",
       "      <td>negative</td>\n",
       "    </tr>\n",
       "    <tr>\n",
       "      <th>49998</th>\n",
       "      <td>i'm going to have to disagree with the previou...</td>\n",
       "      <td>negative</td>\n",
       "    </tr>\n",
       "    <tr>\n",
       "      <th>49999</th>\n",
       "      <td>no one expects the star trek movies to be high...</td>\n",
       "      <td>negative</td>\n",
       "    </tr>\n",
       "  </tbody>\n",
       "</table>\n",
       "<p>50000 rows × 2 columns</p>\n",
       "</div>"
      ],
      "text/plain": [
       "                                                  review sentiment\n",
       "0      one of the other reviewers has mentioned that ...  positive\n",
       "1      a wonderful little production. <br /><br />the...  positive\n",
       "2      i thought this was a wonderful way to spend ti...  positive\n",
       "3      basically there's a family where a little boy ...  negative\n",
       "4      petter mattei's \"love in the time of money\" is...  positive\n",
       "...                                                  ...       ...\n",
       "49995  i thought this movie did a down right good job...  positive\n",
       "49996  bad plot, bad dialogue, bad acting, idiotic di...  negative\n",
       "49997  i am a catholic taught in parochial elementary...  negative\n",
       "49998  i'm going to have to disagree with the previou...  negative\n",
       "49999  no one expects the star trek movies to be high...  negative\n",
       "\n",
       "[50000 rows x 2 columns]"
      ]
     },
     "execution_count": 5,
     "metadata": {},
     "output_type": "execute_result"
    }
   ],
   "source": [
    "# lower case the data\n",
    "review_lower = raw_data['review'].str.lower()\n",
    "raw_data['review'] = review_lower\n",
    "raw_data"
   ]
  },
  {
   "cell_type": "code",
   "execution_count": 6,
   "metadata": {},
   "outputs": [
    {
     "data": {
      "text/plain": [
       "\"one of the other reviewers has mentioned that after watching just 1 oz episode you'll be hooked. they are right, as this is exactly what happened with me.the first thing that struck me about oz was its brutality and unflinching scenes of violence, which set in right from the word go. trust me, this is not a show for the faint hearted or timid. this show pulls no punches with regards to drugs, sex or violence. its is hardcore, in the classic use of the word.it is called oz as that is the nickname given to the oswald maximum security state penitentary. it focuses mainly on emerald city, an experimental section of the prison where all the cells have glass fronts and face inwards, so privacy is not high on the agenda. em city is home to many..aryans, muslims, gangstas, latinos, christians, italians, irish and more....so scuffles, death stares, dodgy dealings and shady agreements are never far away.i would say the main appeal of the show is due to the fact that it goes where other shows wouldn't dare. forget pretty pictures painted for mainstream audiences, forget charm, forget romance...oz doesn't mess around. the first episode i ever saw struck me as so nasty it was surreal, i couldn't say i was ready for it, but as i watched more, i developed a taste for oz, and got accustomed to the high levels of graphic violence. not just violence, but injustice (crooked guards who'll be sold out for a nickel, inmates who'll kill on order and get away with it, well mannered, middle class inmates being turned into prison bitches due to their lack of street skills or prison experience) watching oz, you may become comfortable with what is uncomfortable viewing....thats if you can get in touch with your darker side.\""
      ]
     },
     "execution_count": 6,
     "metadata": {},
     "output_type": "execute_result"
    }
   ],
   "source": [
    "# Removing the html tags\n",
    "re.sub('<.*?>', '', raw_data['review'][0])"
   ]
  },
  {
   "cell_type": "code",
   "execution_count": 7,
   "metadata": {},
   "outputs": [],
   "source": [
    "raw_data['review'] = raw_data['review'].apply(lambda x: re.sub('<.*?>', '', x))"
   ]
  },
  {
   "cell_type": "code",
   "execution_count": 8,
   "metadata": {},
   "outputs": [
    {
     "data": {
      "text/html": [
       "<div>\n",
       "<style scoped>\n",
       "    .dataframe tbody tr th:only-of-type {\n",
       "        vertical-align: middle;\n",
       "    }\n",
       "\n",
       "    .dataframe tbody tr th {\n",
       "        vertical-align: top;\n",
       "    }\n",
       "\n",
       "    .dataframe thead th {\n",
       "        text-align: right;\n",
       "    }\n",
       "</style>\n",
       "<table border=\"1\" class=\"dataframe\">\n",
       "  <thead>\n",
       "    <tr style=\"text-align: right;\">\n",
       "      <th></th>\n",
       "      <th>review</th>\n",
       "      <th>sentiment</th>\n",
       "    </tr>\n",
       "  </thead>\n",
       "  <tbody>\n",
       "    <tr>\n",
       "      <th>0</th>\n",
       "      <td>one of the other reviewers has mentioned that ...</td>\n",
       "      <td>positive</td>\n",
       "    </tr>\n",
       "    <tr>\n",
       "      <th>1</th>\n",
       "      <td>a wonderful little production. the filming tec...</td>\n",
       "      <td>positive</td>\n",
       "    </tr>\n",
       "    <tr>\n",
       "      <th>2</th>\n",
       "      <td>i thought this was a wonderful way to spend ti...</td>\n",
       "      <td>positive</td>\n",
       "    </tr>\n",
       "    <tr>\n",
       "      <th>3</th>\n",
       "      <td>basically there's a family where a little boy ...</td>\n",
       "      <td>negative</td>\n",
       "    </tr>\n",
       "    <tr>\n",
       "      <th>4</th>\n",
       "      <td>petter mattei's \"love in the time of money\" is...</td>\n",
       "      <td>positive</td>\n",
       "    </tr>\n",
       "    <tr>\n",
       "      <th>...</th>\n",
       "      <td>...</td>\n",
       "      <td>...</td>\n",
       "    </tr>\n",
       "    <tr>\n",
       "      <th>49995</th>\n",
       "      <td>i thought this movie did a down right good job...</td>\n",
       "      <td>positive</td>\n",
       "    </tr>\n",
       "    <tr>\n",
       "      <th>49996</th>\n",
       "      <td>bad plot, bad dialogue, bad acting, idiotic di...</td>\n",
       "      <td>negative</td>\n",
       "    </tr>\n",
       "    <tr>\n",
       "      <th>49997</th>\n",
       "      <td>i am a catholic taught in parochial elementary...</td>\n",
       "      <td>negative</td>\n",
       "    </tr>\n",
       "    <tr>\n",
       "      <th>49998</th>\n",
       "      <td>i'm going to have to disagree with the previou...</td>\n",
       "      <td>negative</td>\n",
       "    </tr>\n",
       "    <tr>\n",
       "      <th>49999</th>\n",
       "      <td>no one expects the star trek movies to be high...</td>\n",
       "      <td>negative</td>\n",
       "    </tr>\n",
       "  </tbody>\n",
       "</table>\n",
       "<p>50000 rows × 2 columns</p>\n",
       "</div>"
      ],
      "text/plain": [
       "                                                  review sentiment\n",
       "0      one of the other reviewers has mentioned that ...  positive\n",
       "1      a wonderful little production. the filming tec...  positive\n",
       "2      i thought this was a wonderful way to spend ti...  positive\n",
       "3      basically there's a family where a little boy ...  negative\n",
       "4      petter mattei's \"love in the time of money\" is...  positive\n",
       "...                                                  ...       ...\n",
       "49995  i thought this movie did a down right good job...  positive\n",
       "49996  bad plot, bad dialogue, bad acting, idiotic di...  negative\n",
       "49997  i am a catholic taught in parochial elementary...  negative\n",
       "49998  i'm going to have to disagree with the previou...  negative\n",
       "49999  no one expects the star trek movies to be high...  negative\n",
       "\n",
       "[50000 rows x 2 columns]"
      ]
     },
     "execution_count": 8,
     "metadata": {},
     "output_type": "execute_result"
    }
   ],
   "source": [
    "raw_data"
   ]
  },
  {
   "cell_type": "code",
   "execution_count": 9,
   "metadata": {},
   "outputs": [],
   "source": [
    "# Removing the urls\n",
    "\n",
    "# Define a regular expression to match URLs\n",
    "url_pattern = re.compile(r'https?://\\S+|www\\.\\S+')\n",
    "\n",
    "raw_data['review'] = raw_data['review'].apply(lambda x: re.sub(url_pattern, '', x))"
   ]
  },
  {
   "cell_type": "code",
   "execution_count": 10,
   "metadata": {},
   "outputs": [],
   "source": [
    "# Remove the puncruations\n",
    "# Define a regular expression to match punctuation\n",
    "punctuation_pattern = re.compile(r'[!\\\"#$%&\\'()*+,-./:;<=>?@[\\\\]^_`{|}~]')\n",
    "\n",
    "raw_data['review'] = raw_data['review'].apply(lambda x: re.sub(r'[^\\w\\s]', '', x))"
   ]
  },
  {
   "cell_type": "code",
   "execution_count": 11,
   "metadata": {},
   "outputs": [
    {
     "data": {
      "text/plain": [
       "'one of the other reviewers has mentioned that after watching just 1 oz episode youll be hooked they are right as this is exactly what happened with methe first thing that struck me about oz was its brutality and unflinching scenes of violence which set in right from the word go trust me this is not a show for the faint hearted or timid this show pulls no punches with regards to drugs sex or violence its is hardcore in the classic use of the wordit is called oz as that is the nickname given to the oswald maximum security state penitentary it focuses mainly on emerald city an experimental section of the prison where all the cells have glass fronts and face inwards so privacy is not high on the agenda em city is home to manyaryans muslims gangstas latinos christians italians irish and moreso scuffles death stares dodgy dealings and shady agreements are never far awayi would say the main appeal of the show is due to the fact that it goes where other shows wouldnt dare forget pretty pictures painted for mainstream audiences forget charm forget romanceoz doesnt mess around the first episode i ever saw struck me as so nasty it was surreal i couldnt say i was ready for it but as i watched more i developed a taste for oz and got accustomed to the high levels of graphic violence not just violence but injustice crooked guards wholl be sold out for a nickel inmates wholl kill on order and get away with it well mannered middle class inmates being turned into prison bitches due to their lack of street skills or prison experience watching oz you may become comfortable with what is uncomfortable viewingthats if you can get in touch with your darker side'"
      ]
     },
     "execution_count": 11,
     "metadata": {},
     "output_type": "execute_result"
    }
   ],
   "source": [
    "re.sub(punctuation_pattern, '', raw_data['review'][0])"
   ]
  },
  {
   "cell_type": "code",
   "execution_count": 12,
   "metadata": {},
   "outputs": [
    {
     "name": "stdout",
     "output_type": "stream",
     "text": [
      "Original text with punctuation:\n",
      "Hello, this is an example text with some punctuation!\n",
      "\n",
      "Text after removing punctuation:\n",
      "Hello this is an example text with some punctuation\n"
     ]
    }
   ],
   "source": [
    "import re\n",
    "\n",
    "def remove_punctuation(input_string):\n",
    "    # Define a regular expression to match common punctuation characters\n",
    "    punctuation_pattern = re.compile(r'!')\n",
    "\n",
    "    # Use sub() to replace punctuation with an empty string\n",
    "    clean_text = re.sub(r'[^\\w\\s]', '', input_string)\n",
    "\n",
    "    return clean_text\n",
    "\n",
    "# Example usage:\n",
    "text_with_punctuation = \"Hello, this is an example text with some punctuation!\"\n",
    "text_without_punctuation = remove_punctuation(text_with_punctuation)\n",
    "\n",
    "print(\"Original text with punctuation:\")\n",
    "print(text_with_punctuation)\n",
    "\n",
    "print(\"\\nText after removing punctuation:\")\n",
    "print(text_without_punctuation)\n"
   ]
  },
  {
   "cell_type": "code",
   "execution_count": null,
   "metadata": {},
   "outputs": [],
   "source": [
    "# Text transformation. From short form notation to original form\n",
    "transformation_dict = {'lmao': 'laughing my ass off',\n",
    "                       'idk': 'I don\\' know',\n",
    "                       'rofl': 'rolling over floor laughing',\n",
    "                       'imho': 'in my honest opinion',\n",
    "                       'asap': 'as soon as possible',\n",
    "                       'fyi': 'for your information'}"
   ]
  },
  {
   "cell_type": "code",
   "execution_count": null,
   "metadata": {},
   "outputs": [],
   "source": [
    "# correct spelling mistake using spellbob"
   ]
  },
  {
   "cell_type": "code",
   "execution_count": 14,
   "metadata": {},
   "outputs": [],
   "source": [
    "# Removing stop words using NLTK\n",
    "from nltk.corpus import stopwords"
   ]
  },
  {
   "cell_type": "code",
   "execution_count": 19,
   "metadata": {},
   "outputs": [],
   "source": [
    "english_stopwords = stopwords.words('english')"
   ]
  },
  {
   "cell_type": "code",
   "execution_count": 21,
   "metadata": {},
   "outputs": [],
   "source": [
    "# Remove the stopwords\n",
    "raw_data['review'] = raw_data['review'].apply(lambda x: x if x not in english_stopwords else '')"
   ]
  },
  {
   "cell_type": "code",
   "execution_count": 23,
   "metadata": {},
   "outputs": [
    {
     "data": {
      "text/plain": [
       "'one of the other reviewers has mentioned that after watching just 1 oz episode youll be hooked they are right as this is exactly what happened with methe first thing that struck me about oz was its brutality and unflinching scenes of violence which set in right from the word go trust me this is not a show for the faint hearted or timid this show pulls no punches with regards to drugs sex or violence its is hardcore in the classic use of the wordit is called oz as that is the nickname given to the oswald maximum security state penitentary it focuses mainly on emerald city an experimental section of the prison where all the cells have glass fronts and face inwards so privacy is not high on the agenda em city is home to manyaryans muslims gangstas latinos christians italians irish and moreso scuffles death stares dodgy dealings and shady agreements are never far awayi would say the main appeal of the show is due to the fact that it goes where other shows wouldnt dare forget pretty pictures painted for mainstream audiences forget charm forget romanceoz doesnt mess around the first episode i ever saw struck me as so nasty it was surreal i couldnt say i was ready for it but as i watched more i developed a taste for oz and got accustomed to the high levels of graphic violence not just violence but injustice crooked guards wholl be sold out for a nickel inmates wholl kill on order and get away with it well mannered middle class inmates being turned into prison bitches due to their lack of street skills or prison experience watching oz you may become comfortable with what is uncomfortable viewingthats if you can get in touch with your darker side'"
      ]
     },
     "execution_count": 23,
     "metadata": {},
     "output_type": "execute_result"
    }
   ],
   "source": [
    "raw_data['review'][0]"
   ]
  },
  {
   "cell_type": "code",
   "execution_count": null,
   "metadata": {},
   "outputs": [],
   "source": [
    "# Tokenization\n",
    "# 'I did silly mistakes in my exam' -> ['I', 'did', 'silly', 'mistakes', 'in', 'my', 'exam']\n",
    "\n",
    "# Use split function to tokenize based on some criteria like ., ' ' etc.\n"
   ]
  },
  {
   "cell_type": "code",
   "execution_count": 31,
   "metadata": {},
   "outputs": [],
   "source": [
    "# Stemming\n",
    "# Inflection: In grammar inflection is a to express different grammatical categories such as tense, voice, case, person, gender etc. mapping a group of words to a same word\n",
    "# walk -> walking, do -> doable\n",
    "# stemming is a prcess of convering a word to its root form even if the root itself is not valid. Used in information retrieval.\n",
    "# Used using porter stemmer.\n",
    "\n",
    "\n",
    "from nltk.stem.porter import PorterStemmer\n",
    "ps = PorterStemmer()"
   ]
  },
  {
   "cell_type": "code",
   "execution_count": 42,
   "metadata": {},
   "outputs": [],
   "source": [
    "def stemming(text):\n",
    "    return \" \".join(ps.stem(word) for word in text.split(' '))"
   ]
  },
  {
   "cell_type": "code",
   "execution_count": 46,
   "metadata": {},
   "outputs": [
    {
     "data": {
      "text/plain": [
       "0        one of the other review ha mention that after ...\n",
       "1        a wonder littl product the film techniqu is ve...\n",
       "2        i thought thi wa a wonder way to spend time on...\n",
       "3        basic there a famili where a littl boy jake th...\n",
       "4        petter mattei love in the time of money is a v...\n",
       "                               ...                        \n",
       "49995    i thought thi movi did a down right good job i...\n",
       "49996    bad plot bad dialogu bad act idiot direct the ...\n",
       "49997    i am a cathol taught in parochi elementari sch...\n",
       "49998    im go to have to disagre with the previou comm...\n",
       "49999    no one expect the star trek movi to be high ar...\n",
       "Name: review, Length: 50000, dtype: object"
      ]
     },
     "execution_count": 46,
     "metadata": {},
     "output_type": "execute_result"
    }
   ],
   "source": [
    "raw_data['review'].apply(lambda x: stemming(x))"
   ]
  },
  {
   "cell_type": "code",
   "execution_count": null,
   "metadata": {},
   "outputs": [],
   "source": [
    "# Lemmatization\n",
    "# Lemmatization is a process similar to stemming but the root word in the lamma is a proper english word not a random root word like stemming.\n",
    "# Lemmatization is a slower process compred to stemming. lemmatization is more interpretable compared to stemming."
   ]
  },
  {
   "cell_type": "markdown",
   "metadata": {},
   "source": [
    "# Assignment"
   ]
  },
  {
   "cell_type": "code",
   "execution_count": null,
   "metadata": {},
   "outputs": [],
   "source": [
    "# Create a movie dataset with the tmdb dataset.\n",
    "# Three solumns movie name, movie description and genre.\n",
    "# Apply all the preprocessing on the description column.\n",
    "tmdb_url = 'https://api.themoviedb.org/3/movie/top_rated?api_key=8265bd1679663a7ea12ac168da84d2e8&language=en-US&page='\n",
    "\n",
    "# Page description\n",
    "# No. of pages = 471"
   ]
  },
  {
   "cell_type": "code",
   "execution_count": 75,
   "metadata": {},
   "outputs": [],
   "source": [
    "genre_info = {28:\"Action\",\n",
    "           12:\"Adventure\",\n",
    "           16:\"Animation\",\n",
    "           35:\"Comedy\",\n",
    "           80:\"Crime\",\n",
    "           99:\"Documentary\",\n",
    "           18:\"Drama\",\n",
    "           10751:\"Family\",\n",
    "           14:\"Fantasy\",\n",
    "           36:\"History\",\n",
    "           27:\"Horror\",\n",
    "           10402:\"Music\",\n",
    "           9648:\"Mystery\",\n",
    "           10749:\"Romance\",\n",
    "           878:\"Science Fiction\",\n",
    "           10770:\"TV Movie\",\n",
    "           53:\"Thriller\",\n",
    "           10752:\"War\",\n",
    "           37:\"Western\"}"
   ]
  },
  {
   "cell_type": "code",
   "execution_count": 48,
   "metadata": {},
   "outputs": [],
   "source": [
    "n_pages = range(1, 472)"
   ]
  },
  {
   "cell_type": "code",
   "execution_count": 49,
   "metadata": {},
   "outputs": [],
   "source": [
    "movie_names = []\n",
    "movie_description = []\n",
    "movie_genre = []"
   ]
  },
  {
   "cell_type": "code",
   "execution_count": 51,
   "metadata": {},
   "outputs": [],
   "source": [
    "import requests"
   ]
  },
  {
   "cell_type": "code",
   "execution_count": 60,
   "metadata": {},
   "outputs": [],
   "source": [
    "url = 'https://api.themoviedb.org/3/movie/top_rated'\n",
    "api_key = '8265bd1679663a7ea12ac168da84d2e8'\n",
    "params = {\n",
    "    'api_key': api_key,\n",
    "    'language': 'en-US',\n",
    "    'page': 1\n",
    "}"
   ]
  },
  {
   "cell_type": "code",
   "execution_count": 83,
   "metadata": {},
   "outputs": [],
   "source": [
    "def create_dataset(api_key, url = url):\n",
    "    movie_data = []\n",
    "    for page_no in n_pages:\n",
    "        params['page'] = page_no\n",
    "        page_info = requests.get(url, params=params).json()['results']\n",
    "\n",
    "        for movie_info in page_info:\n",
    "            movie_name = movie_info['original_title']\n",
    "            movie_description = movie_info['overview']\n",
    "            movie_genre = [genre_info[id] for id in movie_info['genre_ids']]\n",
    "            movie_data.append([movie_name, movie_description, movie_genre])\n",
    "\n",
    "    return pd.DataFrame(movie_data, columns=['movie_name', 'description', 'genre'])"
   ]
  },
  {
   "cell_type": "code",
   "execution_count": 84,
   "metadata": {},
   "outputs": [],
   "source": [
    "movie_dataset = create_dataset(api_key)"
   ]
  },
  {
   "cell_type": "code",
   "execution_count": 85,
   "metadata": {},
   "outputs": [
    {
     "data": {
      "text/html": [
       "<div>\n",
       "<style scoped>\n",
       "    .dataframe tbody tr th:only-of-type {\n",
       "        vertical-align: middle;\n",
       "    }\n",
       "\n",
       "    .dataframe tbody tr th {\n",
       "        vertical-align: top;\n",
       "    }\n",
       "\n",
       "    .dataframe thead th {\n",
       "        text-align: right;\n",
       "    }\n",
       "</style>\n",
       "<table border=\"1\" class=\"dataframe\">\n",
       "  <thead>\n",
       "    <tr style=\"text-align: right;\">\n",
       "      <th></th>\n",
       "      <th>movie_name</th>\n",
       "      <th>description</th>\n",
       "      <th>genre</th>\n",
       "    </tr>\n",
       "  </thead>\n",
       "  <tbody>\n",
       "    <tr>\n",
       "      <th>0</th>\n",
       "      <td>The Shawshank Redemption</td>\n",
       "      <td>Framed in the 1940s for the double murder of h...</td>\n",
       "      <td>[Drama, Crime]</td>\n",
       "    </tr>\n",
       "    <tr>\n",
       "      <th>1</th>\n",
       "      <td>The Godfather</td>\n",
       "      <td>Spanning the years 1945 to 1955, a chronicle o...</td>\n",
       "      <td>[Drama, Crime]</td>\n",
       "    </tr>\n",
       "    <tr>\n",
       "      <th>2</th>\n",
       "      <td>The Godfather Part II</td>\n",
       "      <td>In the continuing saga of the Corleone crime f...</td>\n",
       "      <td>[Drama, Crime]</td>\n",
       "    </tr>\n",
       "    <tr>\n",
       "      <th>3</th>\n",
       "      <td>Schindler's List</td>\n",
       "      <td>The true story of how businessman Oskar Schind...</td>\n",
       "      <td>[Drama, History, War]</td>\n",
       "    </tr>\n",
       "    <tr>\n",
       "      <th>4</th>\n",
       "      <td>12 Angry Men</td>\n",
       "      <td>The defense and the prosecution have rested an...</td>\n",
       "      <td>[Drama]</td>\n",
       "    </tr>\n",
       "    <tr>\n",
       "      <th>5</th>\n",
       "      <td>千と千尋の神隠し</td>\n",
       "      <td>A young girl, Chihiro, becomes trapped in a st...</td>\n",
       "      <td>[Animation, Family, Fantasy]</td>\n",
       "    </tr>\n",
       "    <tr>\n",
       "      <th>6</th>\n",
       "      <td>दिलवाले दुल्हनिया ले जायेंगे</td>\n",
       "      <td>Raj is a rich, carefree, happy-go-lucky second...</td>\n",
       "      <td>[Comedy, Drama, Romance]</td>\n",
       "    </tr>\n",
       "    <tr>\n",
       "      <th>7</th>\n",
       "      <td>The Dark Knight</td>\n",
       "      <td>Batman raises the stakes in his war on crime. ...</td>\n",
       "      <td>[Drama, Action, Crime, Thriller]</td>\n",
       "    </tr>\n",
       "    <tr>\n",
       "      <th>8</th>\n",
       "      <td>기생충</td>\n",
       "      <td>All unemployed, Ki-taek's family takes peculia...</td>\n",
       "      <td>[Comedy, Thriller, Drama]</td>\n",
       "    </tr>\n",
       "    <tr>\n",
       "      <th>9</th>\n",
       "      <td>The Green Mile</td>\n",
       "      <td>A supernatural tale set on death row in a Sout...</td>\n",
       "      <td>[Fantasy, Drama, Crime]</td>\n",
       "    </tr>\n",
       "    <tr>\n",
       "      <th>10</th>\n",
       "      <td>君の名は。</td>\n",
       "      <td>High schoolers Mitsuha and Taki are complete s...</td>\n",
       "      <td>[Romance, Animation, Drama]</td>\n",
       "    </tr>\n",
       "    <tr>\n",
       "      <th>11</th>\n",
       "      <td>Pulp Fiction</td>\n",
       "      <td>A burger-loving hit man, his philosophical par...</td>\n",
       "      <td>[Thriller, Crime]</td>\n",
       "    </tr>\n",
       "    <tr>\n",
       "      <th>12</th>\n",
       "      <td>The Lord of the Rings: The Return of the King</td>\n",
       "      <td>Aragorn is revealed as the heir to the ancient...</td>\n",
       "      <td>[Adventure, Fantasy, Action]</td>\n",
       "    </tr>\n",
       "    <tr>\n",
       "      <th>13</th>\n",
       "      <td>Forrest Gump</td>\n",
       "      <td>A man with a low IQ has accomplished great thi...</td>\n",
       "      <td>[Comedy, Drama, Romance]</td>\n",
       "    </tr>\n",
       "    <tr>\n",
       "      <th>14</th>\n",
       "      <td>Il buono, il brutto, il cattivo</td>\n",
       "      <td>While the Civil War rages on between the Union...</td>\n",
       "      <td>[Western]</td>\n",
       "    </tr>\n",
       "    <tr>\n",
       "      <th>15</th>\n",
       "      <td>GoodFellas</td>\n",
       "      <td>The true story of Henry Hill, a half-Irish, ha...</td>\n",
       "      <td>[Drama, Crime]</td>\n",
       "    </tr>\n",
       "    <tr>\n",
       "      <th>16</th>\n",
       "      <td>七人の侍</td>\n",
       "      <td>A samurai answers a village's request for prot...</td>\n",
       "      <td>[Action, Drama]</td>\n",
       "    </tr>\n",
       "    <tr>\n",
       "      <th>17</th>\n",
       "      <td>火垂るの墓</td>\n",
       "      <td>In the final months of World War II, 14-year-o...</td>\n",
       "      <td>[Animation, Drama, War]</td>\n",
       "    </tr>\n",
       "    <tr>\n",
       "      <th>18</th>\n",
       "      <td>La vita è bella</td>\n",
       "      <td>A touching story of an Italian book seller of ...</td>\n",
       "      <td>[Comedy, Drama]</td>\n",
       "    </tr>\n",
       "    <tr>\n",
       "      <th>19</th>\n",
       "      <td>Nuovo Cinema Paradiso</td>\n",
       "      <td>A filmmaker recalls his childhood, when he fel...</td>\n",
       "      <td>[Drama, Romance]</td>\n",
       "    </tr>\n",
       "  </tbody>\n",
       "</table>\n",
       "</div>"
      ],
      "text/plain": [
       "                                       movie_name  \\\n",
       "0                        The Shawshank Redemption   \n",
       "1                                   The Godfather   \n",
       "2                           The Godfather Part II   \n",
       "3                                Schindler's List   \n",
       "4                                    12 Angry Men   \n",
       "5                                        千と千尋の神隠し   \n",
       "6                    दिलवाले दुल्हनिया ले जायेंगे   \n",
       "7                                 The Dark Knight   \n",
       "8                                             기생충   \n",
       "9                                  The Green Mile   \n",
       "10                                          君の名は。   \n",
       "11                                   Pulp Fiction   \n",
       "12  The Lord of the Rings: The Return of the King   \n",
       "13                                   Forrest Gump   \n",
       "14                Il buono, il brutto, il cattivo   \n",
       "15                                     GoodFellas   \n",
       "16                                           七人の侍   \n",
       "17                                          火垂るの墓   \n",
       "18                                La vita è bella   \n",
       "19                          Nuovo Cinema Paradiso   \n",
       "\n",
       "                                          description  \\\n",
       "0   Framed in the 1940s for the double murder of h...   \n",
       "1   Spanning the years 1945 to 1955, a chronicle o...   \n",
       "2   In the continuing saga of the Corleone crime f...   \n",
       "3   The true story of how businessman Oskar Schind...   \n",
       "4   The defense and the prosecution have rested an...   \n",
       "5   A young girl, Chihiro, becomes trapped in a st...   \n",
       "6   Raj is a rich, carefree, happy-go-lucky second...   \n",
       "7   Batman raises the stakes in his war on crime. ...   \n",
       "8   All unemployed, Ki-taek's family takes peculia...   \n",
       "9   A supernatural tale set on death row in a Sout...   \n",
       "10  High schoolers Mitsuha and Taki are complete s...   \n",
       "11  A burger-loving hit man, his philosophical par...   \n",
       "12  Aragorn is revealed as the heir to the ancient...   \n",
       "13  A man with a low IQ has accomplished great thi...   \n",
       "14  While the Civil War rages on between the Union...   \n",
       "15  The true story of Henry Hill, a half-Irish, ha...   \n",
       "16  A samurai answers a village's request for prot...   \n",
       "17  In the final months of World War II, 14-year-o...   \n",
       "18  A touching story of an Italian book seller of ...   \n",
       "19  A filmmaker recalls his childhood, when he fel...   \n",
       "\n",
       "                               genre  \n",
       "0                     [Drama, Crime]  \n",
       "1                     [Drama, Crime]  \n",
       "2                     [Drama, Crime]  \n",
       "3              [Drama, History, War]  \n",
       "4                            [Drama]  \n",
       "5       [Animation, Family, Fantasy]  \n",
       "6           [Comedy, Drama, Romance]  \n",
       "7   [Drama, Action, Crime, Thriller]  \n",
       "8          [Comedy, Thriller, Drama]  \n",
       "9            [Fantasy, Drama, Crime]  \n",
       "10       [Romance, Animation, Drama]  \n",
       "11                 [Thriller, Crime]  \n",
       "12      [Adventure, Fantasy, Action]  \n",
       "13          [Comedy, Drama, Romance]  \n",
       "14                         [Western]  \n",
       "15                    [Drama, Crime]  \n",
       "16                   [Action, Drama]  \n",
       "17           [Animation, Drama, War]  \n",
       "18                   [Comedy, Drama]  \n",
       "19                  [Drama, Romance]  "
      ]
     },
     "execution_count": 85,
     "metadata": {},
     "output_type": "execute_result"
    }
   ],
   "source": [
    "movie_dataset"
   ]
  },
  {
   "cell_type": "code",
   "execution_count": 63,
   "metadata": {},
   "outputs": [
    {
     "name": "stdout",
     "output_type": "stream",
     "text": [
      "{'page': 1, 'results': [{'adult': False, 'backdrop_path': '/kXfqcdQKsToO0OUXHcrrNCHDBzO.jpg', 'genre_ids': [18, 80], 'id': 278, 'original_language': 'en', 'original_title': 'The Shawshank Redemption', 'overview': 'Framed in the 1940s for the double murder of his wife and her lover, upstanding banker Andy Dufresne begins a new life at the Shawshank prison, where he puts his accounting skills to work for an amoral warden. During his long stretch in prison, Dufresne comes to be admired by the other inmates -- including an older prisoner named Red -- for his integrity and unquenchable sense of hope.', 'popularity': 118.686, 'poster_path': '/q6y0Go1tsGEsmtFryDOJo3dEmqu.jpg', 'release_date': '1994-09-23', 'title': 'The Shawshank Redemption', 'video': False, 'vote_average': 8.711, 'vote_count': 25499}, {'adult': False, 'backdrop_path': '/rSPw7tgCH9c6NqICZef4kZjFOQ5.jpg', 'genre_ids': [18, 80], 'id': 238, 'original_language': 'en', 'original_title': 'The Godfather', 'overview': 'Spanning the years 1945 to 1955, a chronicle of the fictional Italian-American Corleone crime family. When organized crime family patriarch, Vito Corleone barely survives an attempt on his life, his youngest son, Michael steps in to take care of the would-be killers, launching a campaign of bloody revenge.', 'popularity': 105.836, 'poster_path': '/3bhkrj58Vtu7enYsRolD1fZdja1.jpg', 'release_date': '1972-03-14', 'title': 'The Godfather', 'video': False, 'vote_average': 8.708, 'vote_count': 19400}, {'adult': False, 'backdrop_path': '/kGzFbGhp99zva6oZODW5atUtnqi.jpg', 'genre_ids': [18, 80], 'id': 240, 'original_language': 'en', 'original_title': 'The Godfather Part II', 'overview': 'In the continuing saga of the Corleone crime family, a young Vito Corleone grows up in Sicily and in 1910s New York. In the 1950s, Michael Corleone attempts to expand the family business into Las Vegas, Hollywood and Cuba.', 'popularity': 69.088, 'poster_path': '/hek3koDUyRQk7FIhPXsa6mT2Zc3.jpg', 'release_date': '1974-12-20', 'title': 'The Godfather Part II', 'video': False, 'vote_average': 8.591, 'vote_count': 11704}, {'adult': False, 'backdrop_path': '/3f92DMBTFqr3wgXpfxzrb0qv8nG.jpg', 'genre_ids': [18, 36, 10752], 'id': 424, 'original_language': 'en', 'original_title': \"Schindler's List\", 'overview': 'The true story of how businessman Oskar Schindler saved over a thousand Jewish lives from the Nazis while they worked as slaves in his factory during World War II.', 'popularity': 60.427, 'poster_path': '/sF1U4EUQS8YHUYjNl3pMGNIQyr0.jpg', 'release_date': '1993-12-15', 'title': \"Schindler's List\", 'video': False, 'vote_average': 8.572, 'vote_count': 15086}, {'adult': False, 'backdrop_path': '/qqHQsStV6exghCM7zbObuYBiYxw.jpg', 'genre_ids': [18], 'id': 389, 'original_language': 'en', 'original_title': '12 Angry Men', 'overview': \"The defense and the prosecution have rested and the jury is filing into the jury room to decide if a young Spanish-American is guilty or innocent of murdering his father. What begins as an open and shut case soon becomes a mini-drama of each of the jurors' prejudices and preconceptions about the trial, the accused, and each other.\", 'popularity': 45.789, 'poster_path': '/ow3wq89wM8qd5X7hWKxiRfsFf9C.jpg', 'release_date': '1957-04-10', 'title': '12 Angry Men', 'video': False, 'vote_average': 8.547, 'vote_count': 8005}, {'adult': False, 'backdrop_path': '/mSDsSDwaP3E7dEfUPWy4J0djt4O.jpg', 'genre_ids': [16, 10751, 14], 'id': 129, 'original_language': 'ja', 'original_title': '千と千尋の神隠し', 'overview': 'A young girl, Chihiro, becomes trapped in a strange new world of spirits. When her parents undergo a mysterious transformation, she must call upon the courage she never knew she had to free her family.', 'popularity': 105.598, 'poster_path': '/39wmItIWsg5sZMyRUHLkWBcuVCM.jpg', 'release_date': '2001-07-20', 'title': 'Spirited Away', 'video': False, 'vote_average': 8.5, 'vote_count': 15485}, {'adult': False, 'backdrop_path': '/90ez6ArvpO8bvpyIngBuwXOqJm5.jpg', 'genre_ids': [35, 18, 10749], 'id': 19404, 'original_language': 'hi', 'original_title': 'दिलवाले दुल्हनिया ले जायेंगे', 'overview': 'Raj is a rich, carefree, happy-go-lucky second generation NRI. Simran is the daughter of Chaudhary Baldev Singh, who in spite of being an NRI is very strict about adherence to Indian values. Simran has left for India to be married to her childhood fiancé. Raj leaves for India with a mission at his hands, to claim his lady love under the noses of her whole family. Thus begins a saga.', 'popularity': 31.083, 'poster_path': '/lfRkUr7DYdHldAqi3PwdQGBRBPM.jpg', 'release_date': '1995-10-20', 'title': 'Dilwale Dulhania Le Jayenge', 'video': False, 'vote_average': 8.5, 'vote_count': 4331}, {'adult': False, 'backdrop_path': '/nMKdUUepR0i5zn0y1T4CsSB5chy.jpg', 'genre_ids': [18, 28, 80, 53], 'id': 155, 'original_language': 'en', 'original_title': 'The Dark Knight', 'overview': 'Batman raises the stakes in his war on crime. With the help of Lt. Jim Gordon and District Attorney Harvey Dent, Batman sets out to dismantle the remaining criminal organizations that plague the streets. The partnership proves to be effective, but they soon find themselves prey to a reign of chaos unleashed by a rising criminal mastermind known to the terrified citizens of Gotham as the Joker.', 'popularity': 91.653, 'poster_path': '/qJ2tW6WMUDux911r6m7haRef0WH.jpg', 'release_date': '2008-07-16', 'title': 'The Dark Knight', 'video': False, 'vote_average': 8.515, 'vote_count': 31401}, {'adult': False, 'backdrop_path': '/hiKmpZMGZsrkA3cdce8a7Dpos1j.jpg', 'genre_ids': [35, 53, 18], 'id': 496243, 'original_language': 'ko', 'original_title': '기생충', 'overview': \"All unemployed, Ki-taek's family takes peculiar interest in the wealthy and glamorous Parks for their livelihood until they get entangled in an unexpected incident.\", 'popularity': 89.093, 'poster_path': '/7IiTTgloJzvGI1TAYymCfbfl3vT.jpg', 'release_date': '2019-05-30', 'title': 'Parasite', 'video': False, 'vote_average': 8.512, 'vote_count': 17053}, {'adult': False, 'backdrop_path': '/l6hQWH9eDksNJNiXWYRkWqikOdu.jpg', 'genre_ids': [14, 18, 80], 'id': 497, 'original_language': 'en', 'original_title': 'The Green Mile', 'overview': \"A supernatural tale set on death row in a Southern prison, where gentle giant John Coffey possesses the mysterious power to heal people's ailments. When the cell block's head guard, Paul Edgecomb, recognizes Coffey's miraculous gift, he tries desperately to help stave off the condemned man's execution.\", 'popularity': 65.466, 'poster_path': '/8VG8fDNiy50H4FedGwdSVUPoaJe.jpg', 'release_date': '1999-12-10', 'title': 'The Green Mile', 'video': False, 'vote_average': 8.51, 'vote_count': 16438}, {'adult': False, 'backdrop_path': '/dIWwZW7dJJtqC6CgWzYkNVKIUm8.jpg', 'genre_ids': [10749, 16, 18], 'id': 372058, 'original_language': 'ja', 'original_title': '君の名は。', 'overview': 'High schoolers Mitsuha and Taki are complete strangers living separate lives. But one night, they suddenly switch places. Mitsuha wakes up in Taki’s body, and he in hers. This bizarre occurrence continues to happen randomly, and the two must adjust their lives around each other.', 'popularity': 71.61, 'poster_path': '/q719jXXEzOoYaps6babgKnONONX.jpg', 'release_date': '2016-08-26', 'title': 'Your Name.', 'video': False, 'vote_average': 8.498, 'vote_count': 10732}, {'adult': False, 'backdrop_path': '/suaEOtk1N1sgg2MTM7oZd2cfVp3.jpg', 'genre_ids': [53, 80], 'id': 680, 'original_language': 'en', 'original_title': 'Pulp Fiction', 'overview': \"A burger-loving hit man, his philosophical partner, a drug-addled gangster's moll and a washed-up boxer converge in this sprawling, comedic crime caper. Their adventures unfurl in three stories that ingeniously trip back and forth in time.\", 'popularity': 95.233, 'poster_path': '/d5iIlFn5s0ImszYzBPb8JPIfbXD.jpg', 'release_date': '1994-09-10', 'title': 'Pulp Fiction', 'video': False, 'vote_average': 8.489, 'vote_count': 26595}, {'adult': False, 'backdrop_path': '/2u7zbn8EudG6kLlBzUYqP8RyFU4.jpg', 'genre_ids': [12, 14, 28], 'id': 122, 'original_language': 'en', 'original_title': 'The Lord of the Rings: The Return of the King', 'overview': \"Aragorn is revealed as the heir to the ancient kings as he, Gandalf and the other members of the broken fellowship struggle to save Gondor from Sauron's forces. Meanwhile, Frodo and Sam take the ring closer to the heart of Mordor, the dark lord's realm.\", 'popularity': 99.758, 'poster_path': '/rCzpDGLbOoPwLjy3OAm5NUPOTrC.jpg', 'release_date': '2003-12-01', 'title': 'The Lord of the Rings: The Return of the King', 'video': False, 'vote_average': 8.477, 'vote_count': 22980}, {'adult': False, 'backdrop_path': '/qdIMHd4sEfJSckfVJfKQvisL02a.jpg', 'genre_ids': [35, 18, 10749], 'id': 13, 'original_language': 'en', 'original_title': 'Forrest Gump', 'overview': 'A man with a low IQ has accomplished great things in his life and been present during significant historic events—in each case, far exceeding what anyone imagined he could do. But despite all he has achieved, his one true love eludes him.', 'popularity': 83.378, 'poster_path': '/arw2vcBveWOVZr6pxd9XTd1TdQa.jpg', 'release_date': '1994-06-23', 'title': 'Forrest Gump', 'video': False, 'vote_average': 8.477, 'vote_count': 26121}, {'adult': False, 'backdrop_path': '/x4biAVdPVCghBlsVIzB6NmbghIz.jpg', 'genre_ids': [37], 'id': 429, 'original_language': 'it', 'original_title': 'Il buono, il brutto, il cattivo', 'overview': 'While the Civil War rages on between the Union and the Confederacy, three men – a quiet loner, a ruthless hitman, and a Mexican bandit – comb the American Southwest in search of a strongbox containing $200,000 in stolen gold.', 'popularity': 73.156, 'poster_path': '/bX2xnavhMYjWDoZp1VM6VnU1xwe.jpg', 'release_date': '1966-12-22', 'title': 'The Good, the Bad and the Ugly', 'video': False, 'vote_average': 8.468, 'vote_count': 8061}, {'adult': False, 'backdrop_path': '/sw7mordbZxgITU877yTpZCud90M.jpg', 'genre_ids': [18, 80], 'id': 769, 'original_language': 'en', 'original_title': 'GoodFellas', 'overview': 'The true story of Henry Hill, a half-Irish, half-Sicilian Brooklyn kid who is adopted by neighbourhood gangsters at an early age and climbs the ranks of a Mafia family under the guidance of Jimmy Conway.', 'popularity': 52.46, 'poster_path': '/aKuFiU82s5ISJpGZp7YkIr3kCUd.jpg', 'release_date': '1990-09-12', 'title': 'GoodFellas', 'video': False, 'vote_average': 8.5, 'vote_count': 12132}, {'adult': False, 'backdrop_path': '/qvZ91FwMq6O47VViAr8vZNQz3WI.jpg', 'genre_ids': [28, 18], 'id': 346, 'original_language': 'ja', 'original_title': '七人の侍', 'overview': \"A samurai answers a village's request for protection after he falls on hard times. The town needs protection from bandits, so the samurai gathers six others to help him teach the people how to defend themselves, and the villagers provide the soldiers with food.\", 'popularity': 36.585, 'poster_path': '/8OKmBV5BUFzmozIC3pPWKHy17kx.jpg', 'release_date': '1954-04-26', 'title': 'Seven Samurai', 'video': False, 'vote_average': 8.458, 'vote_count': 3389}, {'adult': False, 'backdrop_path': '/dlC0ed9Ugh3FzydnkBtV5lRXUu4.jpg', 'genre_ids': [16, 18, 10752], 'id': 12477, 'original_language': 'ja', 'original_title': '火垂るの墓', 'overview': 'In the final months of World War II, 14-year-old Seita and his sister Setsuko are orphaned when their mother is killed during an air raid in Kobe, Japan. After a falling out with their aunt, they move into an abandoned bomb shelter. With no surviving relatives and their emergency rations depleted, Seita and Setsuko struggle to survive.', 'popularity': 0.6, 'poster_path': '/k9tv1rXZbOhH7eiCk378x61kNQ1.jpg', 'release_date': '1988-04-16', 'title': 'Grave of the Fireflies', 'video': False, 'vote_average': 8.456, 'vote_count': 5086}, {'adult': False, 'backdrop_path': '/gavyCu1UaTaTNPsVaGXT6pe5u24.jpg', 'genre_ids': [35, 18], 'id': 637, 'original_language': 'it', 'original_title': 'La vita è bella', 'overview': 'A touching story of an Italian book seller of Jewish ancestry who lives in his own little fairy tale. His creative and happy life would come to an abrupt halt when his entire family is deported to a concentration camp during World War II. While locked up he tries to convince his son that the whole thing is just a game.', 'popularity': 41.033, 'poster_path': '/6tEJnof1DKWPnl5lzkjf0FVv7oB.jpg', 'release_date': '1997-12-20', 'title': 'Life Is Beautiful', 'video': False, 'vote_average': 8.455, 'vote_count': 12548}, {'adult': False, 'backdrop_path': '/zoVeIgKzGJzpdG6Gwnr7iOYfIMU.jpg', 'genre_ids': [18, 10749], 'id': 11216, 'original_language': 'it', 'original_title': 'Nuovo Cinema Paradiso', 'overview': \"A filmmaker recalls his childhood, when he fell in love with the movies at his village's theater and formed a deep friendship with the theater's projectionist.\", 'popularity': 28.229, 'poster_path': '/8SRUfRUi6x4O68n0VCbDNRa6iGL.jpg', 'release_date': '1988-11-17', 'title': 'Cinema Paradiso', 'video': False, 'vote_average': 8.451, 'vote_count': 4107}], 'total_pages': 458, 'total_results': 9145}\n"
     ]
    }
   ],
   "source": [
    "# Make the GET request\n",
    "response = requests.get(url, params=params)\n",
    "\n",
    "# Check if the request was successful (status code 200)\n",
    "if response.status_code == 200:\n",
    "    # Print the content of the response\n",
    "    print(response.json())\n",
    "else:\n",
    "    # Print an error message if the request was unsuccessful\n",
    "    print(f\"Error: {response.status_code} - {response.text}\")"
   ]
  },
  {
   "cell_type": "code",
   "execution_count": 71,
   "metadata": {},
   "outputs": [
    {
     "name": "stdout",
     "output_type": "stream",
     "text": [
      "{'adult': False, 'backdrop_path': '/kXfqcdQKsToO0OUXHcrrNCHDBzO.jpg', 'genre_ids': [18, 80], 'id': 278, 'original_language': 'en', 'original_title': 'The Shawshank Redemption', 'overview': 'Framed in the 1940s for the double murder of his wife and her lover, upstanding banker Andy Dufresne begins a new life at the Shawshank prison, where he puts his accounting skills to work for an amoral warden. During his long stretch in prison, Dufresne comes to be admired by the other inmates -- including an older prisoner named Red -- for his integrity and unquenchable sense of hope.', 'popularity': 118.686, 'poster_path': '/q6y0Go1tsGEsmtFryDOJo3dEmqu.jpg', 'release_date': '1994-09-23', 'title': 'The Shawshank Redemption', 'video': False, 'vote_average': 8.711, 'vote_count': 25499}\n"
     ]
    }
   ],
   "source": [
    "response_dict = response.json()\n",
    "print(response_dict['results'][0])"
   ]
  },
  {
   "cell_type": "code",
   "execution_count": 74,
   "metadata": {},
   "outputs": [
    {
     "data": {
      "text/html": [
       "<div>\n",
       "<style scoped>\n",
       "    .dataframe tbody tr th:only-of-type {\n",
       "        vertical-align: middle;\n",
       "    }\n",
       "\n",
       "    .dataframe tbody tr th {\n",
       "        vertical-align: top;\n",
       "    }\n",
       "\n",
       "    .dataframe thead th {\n",
       "        text-align: right;\n",
       "    }\n",
       "</style>\n",
       "<table border=\"1\" class=\"dataframe\">\n",
       "  <thead>\n",
       "    <tr style=\"text-align: right;\">\n",
       "      <th></th>\n",
       "      <th>0</th>\n",
       "      <th>1</th>\n",
       "      <th>2</th>\n",
       "    </tr>\n",
       "  </thead>\n",
       "  <tbody>\n",
       "    <tr>\n",
       "      <th>0</th>\n",
       "      <td>1</td>\n",
       "      <td>a</td>\n",
       "      <td>[x, y]</td>\n",
       "    </tr>\n",
       "    <tr>\n",
       "      <th>1</th>\n",
       "      <td>2</td>\n",
       "      <td>b</td>\n",
       "      <td>[x, y, z]</td>\n",
       "    </tr>\n",
       "  </tbody>\n",
       "</table>\n",
       "</div>"
      ],
      "text/plain": [
       "   0  1          2\n",
       "0  1  a     [x, y]\n",
       "1  2  b  [x, y, z]"
      ]
     },
     "execution_count": 74,
     "metadata": {},
     "output_type": "execute_result"
    }
   ],
   "source": [
    "a = [[1, 'a', ['x', 'y']],\n",
    "      [2, 'b', ['x', 'y', 'z']]\n",
    "      ]\n",
    "pd.DataFrame(a)"
   ]
  },
  {
   "cell_type": "code",
   "execution_count": null,
   "metadata": {},
   "outputs": [],
   "source": []
  }
 ],
 "metadata": {
  "kernelspec": {
   "display_name": "Python 3",
   "language": "python",
   "name": "python3"
  },
  "language_info": {
   "codemirror_mode": {
    "name": "ipython",
    "version": 3
   },
   "file_extension": ".py",
   "mimetype": "text/x-python",
   "name": "python",
   "nbconvert_exporter": "python",
   "pygments_lexer": "ipython3",
   "version": "3.11.1"
  }
 },
 "nbformat": 4,
 "nbformat_minor": 2
}
