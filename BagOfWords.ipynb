{
 "cells": [
  {
   "cell_type": "code",
   "execution_count": 3,
   "metadata": {},
   "outputs": [],
   "source": [
    "from nltk.corpus import stopwords\n",
    "from  nltk.stem.porter import PorterStemmer\n",
    "from nltk.stem import WordNetLemmatizer\n",
    "import re\n",
    "from nltk.tokenize import sent_tokenize, word_tokenize"
   ]
  },
  {
   "cell_type": "code",
   "execution_count": 1,
   "metadata": {},
   "outputs": [],
   "source": [
    "doc= \"\"\" \n",
    "    The Ramayana is an ancient Sanskrit epic which follows Prince Rama's quest to rescue his beloved wife Sita \n",
    "    from the clutches of Ravana with the help of an army of monkeys. It is traditionally attributed to the \n",
    "    authorship of the sage Valmiki and dated to around 500 BCE to 100 BCE.\n",
    "    Comprising 24,000 verses in seven cantos, the epic contains the teachings of the very ancient Hindu sages. \n",
    "    One of the most important literary works of ancient India, it has greatly influenced art and culture in the \n",
    "    Indian subcontinent and South East Asia, with versions of the story also appearing in the Buddhist canon from \n",
    "    a very early date. The story of Rama has constantly been retold in poetic and dramatic versions by some of \n",
    "    India's greatest writers and also in narrative sculptures on temple walls. It is one of the staples of later \n",
    "    dramatic traditions, re-enacted in dance-dramas, village theatre, shadow-puppet theatre and the annual Ram-lila.\n",
    "\"\"\""
   ]
  },
  {
   "cell_type": "code",
   "execution_count": 21,
   "metadata": {},
   "outputs": [],
   "source": [
    "stemmer= PorterStemmer()\n",
    "lemmatizer= WordNetLemmatizer()\n",
    "sentences= sent_tokenize(doc)"
   ]
  },
  {
   "cell_type": "code",
   "execution_count": 22,
   "metadata": {},
   "outputs": [],
   "source": [
    "corpus= []\n",
    "length= len(sentences)\n",
    "for i in range(length):\n",
    "    sentence= sentences[i] \n",
    "    sentence= sentence.lower()\n",
    "    words= sentence.split()\n",
    "    sentence= [stemmer.stem(word) for word in words if word not in set(stopwords.words('english'))]\n",
    "    sentence= ' '.join(sentence)\n",
    "    corpus.append(sentence)"
   ]
  },
  {
   "cell_type": "code",
   "execution_count": 23,
   "metadata": {},
   "outputs": [
    {
     "name": "stdout",
     "output_type": "stream",
     "text": [
      "[\"ramayana ancient sanskrit epic follow princ rama' quest rescu belov wife sita clutch ravana help armi monkeys.\", 'tradit attribut authorship sage valmiki date around 500 bce 100 bce.', 'compris 24,000 vers seven cantos, epic contain teach ancient hindu sages.', 'one import literari work ancient india, greatli influenc art cultur indian subcontin south east asia, version stori also appear buddhist canon earli date.', \"stori rama constantli retold poetic dramat version india' greatest writer also narr sculptur templ walls.\", 'one stapl later dramat traditions, re-enact dance-dramas, villag theatre, shadow-puppet theatr annual ram-lila.']\n"
     ]
    }
   ],
   "source": [
    "print(corpus)"
   ]
  },
  {
   "cell_type": "code",
   "execution_count": 32,
   "metadata": {},
   "outputs": [],
   "source": [
    "from sklearn.feature_extraction.text import CountVectorizer\n",
    "import numpy as np\n",
    "cv= CountVectorizer()\n",
    "X= cv.fit_transform(corpus).toarray()"
   ]
  },
  {
   "cell_type": "code",
   "execution_count": 33,
   "metadata": {},
   "outputs": [
    {
     "data": {
      "text/plain": [
       "(6, 83)"
      ]
     },
     "execution_count": 33,
     "metadata": {},
     "output_type": "execute_result"
    }
   ],
   "source": [
    "X.shape"
   ]
  },
  {
   "cell_type": "code",
   "execution_count": 34,
   "metadata": {},
   "outputs": [
    {
     "data": {
      "text/plain": [
       "array([0, 1, 2], dtype=int64)"
      ]
     },
     "execution_count": 34,
     "metadata": {},
     "output_type": "execute_result"
    }
   ],
   "source": [
    "np.unique(X)"
   ]
  }
 ],
 "metadata": {
  "interpreter": {
   "hash": "c569cd2e17f62341e0f08a54f9a867c3c0d3a6f67454072d7de41a8b5dff8343"
  },
  "kernelspec": {
   "display_name": "Python 3.9.6 64-bit",
   "language": "python",
   "name": "python3"
  },
  "language_info": {
   "codemirror_mode": {
    "name": "ipython",
    "version": 3
   },
   "file_extension": ".py",
   "mimetype": "text/x-python",
   "name": "python",
   "nbconvert_exporter": "python",
   "pygments_lexer": "ipython3",
   "version": "3.9.6"
  },
  "orig_nbformat": 4
 },
 "nbformat": 4,
 "nbformat_minor": 2
}
