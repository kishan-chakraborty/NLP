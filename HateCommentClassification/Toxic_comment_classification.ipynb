{
 "cells": [
  {
   "cell_type": "code",
   "execution_count": 39,
   "metadata": {},
   "outputs": [],
   "source": [
    "import pandas as pd\n",
    "import numpy as np\n",
    "import matplotlib.pyplot as plt\n",
    "import re\n",
    "import seaborn as sns\n",
    "import string\n",
    "\n",
    "from nltk.corpus import stopwords\n",
    "from nltk.stem.lancaster import LancasterStemmer\n",
    "\n",
    "from sklearn.calibration import CalibratedClassifierCV\n",
    "from sklearn.feature_extraction.text import CountVectorizer, TfidfVectorizer"
   ]
  },
  {
   "cell_type": "code",
   "execution_count": 3,
   "metadata": {},
   "outputs": [
    {
     "data": {
      "text/html": [
       "<div>\n",
       "<style scoped>\n",
       "    .dataframe tbody tr th:only-of-type {\n",
       "        vertical-align: middle;\n",
       "    }\n",
       "\n",
       "    .dataframe tbody tr th {\n",
       "        vertical-align: top;\n",
       "    }\n",
       "\n",
       "    .dataframe thead th {\n",
       "        text-align: right;\n",
       "    }\n",
       "</style>\n",
       "<table border=\"1\" class=\"dataframe\">\n",
       "  <thead>\n",
       "    <tr style=\"text-align: right;\">\n",
       "      <th></th>\n",
       "      <th>id</th>\n",
       "      <th>comment_text</th>\n",
       "      <th>toxic</th>\n",
       "      <th>severe_toxic</th>\n",
       "      <th>obscene</th>\n",
       "      <th>threat</th>\n",
       "      <th>insult</th>\n",
       "      <th>identity_hate</th>\n",
       "    </tr>\n",
       "  </thead>\n",
       "  <tbody>\n",
       "    <tr>\n",
       "      <th>0</th>\n",
       "      <td>0000997932d777bf</td>\n",
       "      <td>Explanation\\nWhy the edits made under my usern...</td>\n",
       "      <td>0</td>\n",
       "      <td>0</td>\n",
       "      <td>0</td>\n",
       "      <td>0</td>\n",
       "      <td>0</td>\n",
       "      <td>0</td>\n",
       "    </tr>\n",
       "    <tr>\n",
       "      <th>1</th>\n",
       "      <td>000103f0d9cfb60f</td>\n",
       "      <td>D'aww! He matches this background colour I'm s...</td>\n",
       "      <td>0</td>\n",
       "      <td>0</td>\n",
       "      <td>0</td>\n",
       "      <td>0</td>\n",
       "      <td>0</td>\n",
       "      <td>0</td>\n",
       "    </tr>\n",
       "    <tr>\n",
       "      <th>2</th>\n",
       "      <td>000113f07ec002fd</td>\n",
       "      <td>Hey man, I'm really not trying to edit war. It...</td>\n",
       "      <td>0</td>\n",
       "      <td>0</td>\n",
       "      <td>0</td>\n",
       "      <td>0</td>\n",
       "      <td>0</td>\n",
       "      <td>0</td>\n",
       "    </tr>\n",
       "    <tr>\n",
       "      <th>3</th>\n",
       "      <td>0001b41b1c6bb37e</td>\n",
       "      <td>\"\\nMore\\nI can't make any real suggestions on ...</td>\n",
       "      <td>0</td>\n",
       "      <td>0</td>\n",
       "      <td>0</td>\n",
       "      <td>0</td>\n",
       "      <td>0</td>\n",
       "      <td>0</td>\n",
       "    </tr>\n",
       "    <tr>\n",
       "      <th>4</th>\n",
       "      <td>0001d958c54c6e35</td>\n",
       "      <td>You, sir, are my hero. Any chance you remember...</td>\n",
       "      <td>0</td>\n",
       "      <td>0</td>\n",
       "      <td>0</td>\n",
       "      <td>0</td>\n",
       "      <td>0</td>\n",
       "      <td>0</td>\n",
       "    </tr>\n",
       "  </tbody>\n",
       "</table>\n",
       "</div>"
      ],
      "text/plain": [
       "                 id                                       comment_text  toxic  \\\n",
       "0  0000997932d777bf  Explanation\\nWhy the edits made under my usern...      0   \n",
       "1  000103f0d9cfb60f  D'aww! He matches this background colour I'm s...      0   \n",
       "2  000113f07ec002fd  Hey man, I'm really not trying to edit war. It...      0   \n",
       "3  0001b41b1c6bb37e  \"\\nMore\\nI can't make any real suggestions on ...      0   \n",
       "4  0001d958c54c6e35  You, sir, are my hero. Any chance you remember...      0   \n",
       "\n",
       "   severe_toxic  obscene  threat  insult  identity_hate  \n",
       "0             0        0       0       0              0  \n",
       "1             0        0       0       0              0  \n",
       "2             0        0       0       0              0  \n",
       "3             0        0       0       0              0  \n",
       "4             0        0       0       0              0  "
      ]
     },
     "execution_count": 3,
     "metadata": {},
     "output_type": "execute_result"
    }
   ],
   "source": [
    "data= pd.read_csv('train.csv')\n",
    "data.head()"
   ]
  },
  {
   "cell_type": "code",
   "execution_count": 5,
   "metadata": {},
   "outputs": [
    {
     "name": "stdout",
     "output_type": "stream",
     "text": [
      "(159571, 8)\n"
     ]
    }
   ],
   "source": [
    "print(data.shape)"
   ]
  },
  {
   "cell_type": "code",
   "execution_count": 6,
   "metadata": {},
   "outputs": [
    {
     "name": "stdout",
     "output_type": "stream",
     "text": [
      "Data columns\n",
      " Index(['id', 'comment_text', 'toxic', 'severe_toxic', 'obscene', 'threat',\n",
      "       'insult', 'identity_hate'],\n",
      "      dtype='object')\n"
     ]
    }
   ],
   "source": [
    "print('Data columns\\n', data.columns)"
   ]
  },
  {
   "cell_type": "code",
   "execution_count": 7,
   "metadata": {},
   "outputs": [
    {
     "name": "stdout",
     "output_type": "stream",
     "text": [
      "First comment:\t Explanation\n",
      "Why the edits made under my username Hardcore Metallica Fan were reverted? They weren't vandalisms, just closure on some GAs after I voted at New York Dolls FAC. And please don't remove the template from the talk page since I'm retired now.89.205.38.27\n",
      "Second comment:\t D'aww! He matches this background colour I'm seemingly stuck with. Thanks.  (talk) 21:51, January 11, 2016 (UTC)\n"
     ]
    }
   ],
   "source": [
    "print('First comment:\\t',data['comment_text'][0])\n",
    "print('Second comment:\\t',data['comment_text'][1])"
   ]
  },
  {
   "cell_type": "code",
   "execution_count": 8,
   "metadata": {},
   "outputs": [
    {
     "data": {
      "text/plain": [
       "0    0.904156\n",
       "1    0.095844\n",
       "Name: toxic, dtype: float64"
      ]
     },
     "execution_count": 8,
     "metadata": {},
     "output_type": "execute_result"
    }
   ],
   "source": [
    "data['toxic'].value_counts(normalize= True) # around 10% of the data is toxic"
   ]
  },
  {
   "cell_type": "code",
   "execution_count": 9,
   "metadata": {},
   "outputs": [
    {
     "data": {
      "image/png": "[encoded data removed]",
      "text/plain": [
       "<Figure size 432x288 with 1 Axes>"
      ]
     },
     "metadata": {
      "needs_background": "light"
     },
     "output_type": "display_data"
    }
   ],
   "source": [
    "#% of comments of different categories\n",
    "ind= np.arange(6)\n",
    "n_rows= len(data)\n",
    "data_count= data.iloc[:, 2:].sum()/ n_rows*100\n",
    "ax= plt.barh(ind, [data_count[0], data_count[1], data_count[2], data_count[3], data_count[4], data_count[5]])\n",
    "plt.xlabel('Percentage %')\n",
    "plt.title('percentage of comments in each category')\n",
    "plt.yticks(ind, ('toxic', 'severe_toxic', 'obscene', 'threat','insult', 'identity_hate'))\n",
    "plt.gca().invert_yaxis()\n",
    "plt.show()"
   ]
  },
  {
   "cell_type": "code",
   "execution_count": 10,
   "metadata": {},
   "outputs": [
    {
     "data": {
      "text/plain": [
       "'explanation why the edits made under my username hardcore metallica fan were reverted  they weren t vandalisms  just closure on some gas after i voted at new york dolls fac  and please don t remove the template from the talk page since i m retired now        '"
      ]
     },
     "execution_count": 10,
     "metadata": {},
     "output_type": "execute_result"
    }
   ],
   "source": [
    "alphanumeric= lambda x: re.sub('\\w*\\d\\w', ' ', x)\n",
    "punc_lower= lambda x: re.sub('[%s]'% re.escape(string.punctuation), ' ', x.lower())\n",
    "remove_n= lambda x: re.sub('\\n', ' ', x)\n",
    "remove_non_ascii= lambda x: re.sub(r'[^\\x00-\\x7f]', r'', x)\n",
    "\n",
    "data['comment_text']= data['comment_text'].map(alphanumeric).map(punc_lower).map(remove_n).map(remove_non_ascii)\n",
    "data['comment_text'][0]"
   ]
  },
  {
   "cell_type": "code",
   "execution_count": 11,
   "metadata": {},
   "outputs": [],
   "source": [
    "data_tox= data.loc[:, ['id', 'comment_text', 'toxic']]\n",
    "data_sev= data.loc[:, ['id', 'comment_text', 'severe_toxic']]\n",
    "data_obs= data.loc[:, ['id', 'comment_text', 'obscene']]\n",
    "data_thr= data.loc[:, ['id', 'comment_text', 'threat']]\n",
    "data_ins= data.loc[:, ['id', 'comment_text', 'insult']]\n",
    "data_idh= data.loc[:, ['id', 'comment_text', 'identity_hate']]"
   ]
  },
  {
   "cell_type": "code",
   "execution_count": 12,
   "metadata": {},
   "outputs": [
    {
     "data": {
      "text/plain": [
       "'explanation why the edits made under my username hardcore metallica fan were reverted  they weren t vandalisms  just closure on some gas after i voted at new york dolls fac  and please don t remove the template from the talk page since i m retired now        '"
      ]
     },
     "execution_count": 12,
     "metadata": {},
     "output_type": "execute_result"
    }
   ],
   "source": [
    "data_tox['comment_text'][0]"
   ]
  },
  {
   "cell_type": "code",
   "execution_count": 13,
   "metadata": {},
   "outputs": [
    {
     "data": {
      "text/plain": [
       "'d aww  he matches this background colour i m seemingly stuck with  thanks    talk       january       utc '"
      ]
     },
     "execution_count": 13,
     "metadata": {},
     "output_type": "execute_result"
    }
   ],
   "source": [
    "data['comment_text'][1]"
   ]
  },
  {
   "cell_type": "code",
   "execution_count": 14,
   "metadata": {},
   "outputs": [],
   "source": [
    "def working_data(data, label):\n",
    "    data_1= data[data[label]== 1]\n",
    "    length= len(data_1)\n",
    "    data_0= data[data[label]== 0].iloc[:length, :]\n",
    "\n",
    "    return pd.concat([data_0, data_1], axis= 0) "
   ]
  },
  {
   "cell_type": "code",
   "execution_count": 15,
   "metadata": {},
   "outputs": [],
   "source": [
    "data_types= [data_tox, data_sev, data_obs, data_thr, data_ins, data_idh]\n",
    "labels= ['toxic', 'severe_toxic', 'obscene', 'threat','insult', 'identity_hate']\n",
    "for i in range(len(labels)):\n",
    "    data_types[i]= working_data(data_types[i], labels[i])"
   ]
  },
  {
   "cell_type": "code",
   "execution_count": 16,
   "metadata": {},
   "outputs": [
    {
     "name": "stdout",
     "output_type": "stream",
     "text": [
      "Number of zero class: 15294\n",
      "Number of 1 class: 15294\n"
     ]
    }
   ],
   "source": [
    "print('Number of zero class:', (data_types[0]['toxic']== 0).sum())\n",
    "print('Number of 1 class:', (data_types[0]['toxic']== 1).sum())"
   ]
  },
  {
   "cell_type": "code",
   "execution_count": 17,
   "metadata": {},
   "outputs": [],
   "source": [
    "from sklearn.model_selection import train_test_split, KFold, cross_val_score\n",
    "from sklearn.metrics import f1_score, precision_recall_curve, precision_score, recall_score, confusion_matrix, roc_auc_score, roc_curve\n",
    "from sklearn.linear_model import LogisticRegression\n",
    "from sklearn.neighbors import KNeighborsClassifier\n",
    "from sklearn.naive_bayes import BernoulliNB, MultinomialNB\n",
    "from sklearn.svm import LinearSVC\n",
    "from sklearn.ensemble import RandomForestClassifier"
   ]
  },
  {
   "cell_type": "code",
   "execution_count": 18,
   "metadata": {},
   "outputs": [],
   "source": [
    "def cv_tf_train_test(df, label, vectorizer, n_gram):\n",
    "\n",
    "    X= df['comment_text']\n",
    "    y= df[label]\n",
    "\n",
    "    X_train, X_test, y_train, y_test= train_test_split(X, y, test_size= 0.3, random_state= 42)\n",
    "\n",
    "    cv1= vectorizer(ngram_range= (n_gram), stop_words= 'english')\n",
    "\n",
    "    X_train_cv1= cv1.fit_transform(X_train)\n",
    "    X_test_cv1= cv1.transform(X_test)\n",
    "\n",
    "    lr= LogisticRegression()\n",
    "    lr.fit(X_train_cv1, y_train)\n",
    "    print('lr done')\n",
    "\n",
    "    knn= KNeighborsClassifier()\n",
    "    knn.fit(X_train_cv1, y_train)\n",
    "    print('knn done')\n",
    "\n",
    "    bnb= BernoulliNB()\n",
    "    bnb.fit(X_train_cv1, y_train)\n",
    "    print('bnb done')\n",
    "\n",
    "    mnb= MultinomialNB()\n",
    "    mnb.fit(X_train_cv1, y_train)\n",
    "    print('gnb done')\n",
    "\n",
    "    svc= LinearSVC()\n",
    "    svc.fit(X_train_cv1, y_train)\n",
    "    print('svc done')\n",
    "\n",
    "    randomforest= RandomForestClassifier()\n",
    "    randomforest.fit(X_train_cv1, y_train)\n",
    "    print('random forest done')\n",
    "\n",
    "    f1_score_data= {'F1 Score':[f1_score(lr.predict(X_test_cv1), y_test),\n",
    "                                f1_score(knn.predict(X_test_cv1), y_test),\n",
    "                                f1_score(bnb.predict(X_test_cv1), y_test),\n",
    "                                f1_score(mnb.predict(X_test_cv1), y_test),\n",
    "                                f1_score(svc.predict(X_test_cv1), y_test),\n",
    "                                f1_score(randomforest.predict(X_test_cv1), y_test)]}\n",
    "\n",
    "    score_df= pd.DataFrame(f1_score_data, index= ['logistics regression', 'knn', 'BaayesNB', 'MultinomialNB', 'LinearSVC', 'RandomForest'])\n",
    "\n",
    "    return score_df"
   ]
  },
  {
   "cell_type": "code",
   "execution_count": 19,
   "metadata": {},
   "outputs": [
    {
     "name": "stdout",
     "output_type": "stream",
     "text": [
      "lr done\n",
      "knn done\n",
      "bnb done\n",
      "gnb done\n",
      "svc done\n",
      "random forest done\n",
      "Total time taken: 149.03304934501648\n"
     ]
    }
   ],
   "source": [
    "import time\n",
    "t0= time.time()\n",
    "df_tox_cv= cv_tf_train_test(data_types[0], 'toxic', TfidfVectorizer, (1, 1))\n",
    "t1= time.time()\n",
    "\n",
    "print('Total time taken:', t1- t0)"
   ]
  },
  {
   "cell_type": "code",
   "execution_count": 20,
   "metadata": {},
   "outputs": [
    {
     "name": "stdout",
     "output_type": "stream",
     "text": [
      "lr done\n",
      "knn done\n",
      "bnb done\n",
      "gnb done\n",
      "svc done\n",
      "random forest done\n",
      "Total time taken: 10.494617462158203\n"
     ]
    }
   ],
   "source": [
    "t0= time.time()\n",
    "df_sev_cv= cv_tf_train_test(data_types[1], 'severe_toxic', TfidfVectorizer, (1, 1))\n",
    "t1= time.time()\n",
    "\n",
    "print('Total time taken:', t1- t0)"
   ]
  },
  {
   "cell_type": "code",
   "execution_count": 21,
   "metadata": {},
   "outputs": [
    {
     "name": "stdout",
     "output_type": "stream",
     "text": [
      "lr done\n",
      "knn done\n",
      "bnb done\n",
      "gnb done\n",
      "svc done\n",
      "random forest done\n",
      "Total time taken: 38.98901033401489\n"
     ]
    }
   ],
   "source": [
    "t0= time.time()\n",
    "df_obs_cv= cv_tf_train_test(data_types[2], 'obscene', TfidfVectorizer, (1, 1))\n",
    "t1= time.time()\n",
    "\n",
    "print('Total time taken:', t1- t0)"
   ]
  },
  {
   "cell_type": "code",
   "execution_count": 22,
   "metadata": {},
   "outputs": [
    {
     "name": "stdout",
     "output_type": "stream",
     "text": [
      "lr done\n",
      "knn done\n",
      "bnb done\n",
      "gnb done\n",
      "svc done\n",
      "random forest done\n",
      "Total time taken: 1.0282785892486572\n"
     ]
    }
   ],
   "source": [
    "t0= time.time() # 'threat','insult', 'identity_hate'\n",
    "df_thr_cv= cv_tf_train_test(data_types[3], 'threat', TfidfVectorizer, (1, 1))\n",
    "\n",
    "t1= time.time()\n",
    "print('Total time taken:', t1- t0)"
   ]
  },
  {
   "cell_type": "code",
   "execution_count": 23,
   "metadata": {},
   "outputs": [
    {
     "name": "stdout",
     "output_type": "stream",
     "text": [
      "lr done\n",
      "knn done\n",
      "bnb done\n",
      "gnb done\n",
      "svc done\n",
      "random forest done\n",
      "Total time taken: 43.81292533874512\n"
     ]
    }
   ],
   "source": [
    "t0= time.time()\n",
    "df_ins_cv= cv_tf_train_test(data_types[4], 'insult', TfidfVectorizer, (1, 1))\n",
    "t1= time.time()\n",
    "\n",
    "print('Total time taken:', t1- t0)\n"
   ]
  },
  {
   "cell_type": "code",
   "execution_count": 24,
   "metadata": {},
   "outputs": [
    {
     "name": "stdout",
     "output_type": "stream",
     "text": [
      "lr done\n",
      "knn done\n",
      "bnb done\n",
      "gnb done\n",
      "svc done\n",
      "random forest done\n",
      "Total time taken: 3.0481412410736084\n"
     ]
    }
   ],
   "source": [
    "t0= time.time()\n",
    "df_idh_cv= cv_tf_train_test(data_types[5], 'identity_hate', TfidfVectorizer, (1, 1))\n",
    "\n",
    "t1= time.time()\n",
    "\n",
    "print('Total time taken:', t1- t0)\n"
   ]
  },
  {
   "cell_type": "code",
   "execution_count": 25,
   "metadata": {},
   "outputs": [],
   "source": [
    "df_tox_cv.rename(columns= {'F1 Score': 'F1_Score(Toxic)'}, inplace= True)\n",
    "df_sev_cv.rename(columns= {'F1 Score': 'F1_Score(severe_toxic )'}, inplace= True)\n",
    "df_obs_cv.rename(columns= {'F1 Score': 'F1_Score(obscene)'}, inplace= True)\n",
    "df_thr_cv.rename(columns= {'F1 Score': 'F1_Score(threat)'}, inplace= True)\n",
    "df_idh_cv.rename(columns= {'F1 Score': 'F1_Score(Identity_hate)'}, inplace= True)\n",
    "df_ins_cv.rename(columns= {'F1 Score': 'F1_Score(insult)'}, inplace= True)"
   ]
  },
  {
   "cell_type": "code",
   "execution_count": 26,
   "metadata": {},
   "outputs": [
    {
     "data": {
      "text/html": [
       "<div>\n",
       "<style scoped>\n",
       "    .dataframe tbody tr th:only-of-type {\n",
       "        vertical-align: middle;\n",
       "    }\n",
       "\n",
       "    .dataframe tbody tr th {\n",
       "        vertical-align: top;\n",
       "    }\n",
       "\n",
       "    .dataframe thead th {\n",
       "        text-align: right;\n",
       "    }\n",
       "</style>\n",
       "<table border=\"1\" class=\"dataframe\">\n",
       "  <thead>\n",
       "    <tr style=\"text-align: right;\">\n",
       "      <th></th>\n",
       "      <th>F1_Score(Toxic)</th>\n",
       "      <th>F1_Score(severe_toxic )</th>\n",
       "      <th>F1_Score(obscene)</th>\n",
       "      <th>F1_Score(threat)</th>\n",
       "      <th>F1_Score(insult)</th>\n",
       "      <th>F1_Score(Identity_hate)</th>\n",
       "    </tr>\n",
       "  </thead>\n",
       "  <tbody>\n",
       "    <tr>\n",
       "      <th>logistics regression</th>\n",
       "      <td>0.883631</td>\n",
       "      <td>0.930886</td>\n",
       "      <td>0.918546</td>\n",
       "      <td>0.897527</td>\n",
       "      <td>0.901987</td>\n",
       "      <td>0.886420</td>\n",
       "    </tr>\n",
       "    <tr>\n",
       "      <th>knn</th>\n",
       "      <td>0.498107</td>\n",
       "      <td>0.882989</td>\n",
       "      <td>0.442404</td>\n",
       "      <td>0.834483</td>\n",
       "      <td>0.326688</td>\n",
       "      <td>0.781836</td>\n",
       "    </tr>\n",
       "    <tr>\n",
       "      <th>BaayesNB</th>\n",
       "      <td>0.764041</td>\n",
       "      <td>0.790541</td>\n",
       "      <td>0.781800</td>\n",
       "      <td>0.781421</td>\n",
       "      <td>0.779774</td>\n",
       "      <td>0.789981</td>\n",
       "    </tr>\n",
       "    <tr>\n",
       "      <th>MultinomialNB</th>\n",
       "      <td>0.873308</td>\n",
       "      <td>0.923541</td>\n",
       "      <td>0.902531</td>\n",
       "      <td>0.921053</td>\n",
       "      <td>0.895453</td>\n",
       "      <td>0.909091</td>\n",
       "    </tr>\n",
       "    <tr>\n",
       "      <th>LinearSVC</th>\n",
       "      <td>0.886505</td>\n",
       "      <td>0.934899</td>\n",
       "      <td>0.932235</td>\n",
       "      <td>0.883392</td>\n",
       "      <td>0.912940</td>\n",
       "      <td>0.900966</td>\n",
       "    </tr>\n",
       "    <tr>\n",
       "      <th>RandomForest</th>\n",
       "      <td>0.852182</td>\n",
       "      <td>0.936763</td>\n",
       "      <td>0.912281</td>\n",
       "      <td>0.902778</td>\n",
       "      <td>0.892602</td>\n",
       "      <td>0.878220</td>\n",
       "    </tr>\n",
       "  </tbody>\n",
       "</table>\n",
       "</div>"
      ],
      "text/plain": [
       "                      F1_Score(Toxic)  F1_Score(severe_toxic )  \\\n",
       "logistics regression         0.883631                 0.930886   \n",
       "knn                          0.498107                 0.882989   \n",
       "BaayesNB                     0.764041                 0.790541   \n",
       "MultinomialNB                0.873308                 0.923541   \n",
       "LinearSVC                    0.886505                 0.934899   \n",
       "RandomForest                 0.852182                 0.936763   \n",
       "\n",
       "                      F1_Score(obscene)  F1_Score(threat)  F1_Score(insult)  \\\n",
       "logistics regression           0.918546          0.897527          0.901987   \n",
       "knn                            0.442404          0.834483          0.326688   \n",
       "BaayesNB                       0.781800          0.781421          0.779774   \n",
       "MultinomialNB                  0.902531          0.921053          0.895453   \n",
       "LinearSVC                      0.932235          0.883392          0.912940   \n",
       "RandomForest                   0.912281          0.902778          0.892602   \n",
       "\n",
       "                      F1_Score(Identity_hate)  \n",
       "logistics regression                 0.886420  \n",
       "knn                                  0.781836  \n",
       "BaayesNB                             0.789981  \n",
       "MultinomialNB                        0.909091  \n",
       "LinearSVC                            0.900966  \n",
       "RandomForest                         0.878220  "
      ]
     },
     "execution_count": 26,
     "metadata": {},
     "output_type": "execute_result"
    }
   ],
   "source": [
    "Result_df= pd.concat([df_tox_cv, df_sev_cv, df_obs_cv, df_thr_cv, df_ins_cv, df_idh_cv], axis= 1)\n",
    "Result_df"
   ]
  },
  {
   "cell_type": "markdown",
   "metadata": {},
   "source": [
    "Obserev from the above table that the best performing algorithms are Random forest, Linear SVC and Logistics Regression atleast in validation set. Since Logostics Regression is a very simple model we would like to keep Linear SVC over RF and LR."
   ]
  },
  {
   "cell_type": "code",
   "execution_count": 27,
   "metadata": {},
   "outputs": [],
   "source": [
    "Result_df_tr= Result_df.transpose()"
   ]
  },
  {
   "cell_type": "code",
   "execution_count": 28,
   "metadata": {},
   "outputs": [
    {
     "data": {
      "text/html": [
       "<div>\n",
       "<style scoped>\n",
       "    .dataframe tbody tr th:only-of-type {\n",
       "        vertical-align: middle;\n",
       "    }\n",
       "\n",
       "    .dataframe tbody tr th {\n",
       "        vertical-align: top;\n",
       "    }\n",
       "\n",
       "    .dataframe thead th {\n",
       "        text-align: right;\n",
       "    }\n",
       "</style>\n",
       "<table border=\"1\" class=\"dataframe\">\n",
       "  <thead>\n",
       "    <tr style=\"text-align: right;\">\n",
       "      <th></th>\n",
       "      <th>logistics regression</th>\n",
       "      <th>knn</th>\n",
       "      <th>BaayesNB</th>\n",
       "      <th>MultinomialNB</th>\n",
       "      <th>LinearSVC</th>\n",
       "      <th>RandomForest</th>\n",
       "    </tr>\n",
       "  </thead>\n",
       "  <tbody>\n",
       "    <tr>\n",
       "      <th>F1_Score(Toxic)</th>\n",
       "      <td>0.883631</td>\n",
       "      <td>0.498107</td>\n",
       "      <td>0.764041</td>\n",
       "      <td>0.873308</td>\n",
       "      <td>0.886505</td>\n",
       "      <td>0.852182</td>\n",
       "    </tr>\n",
       "    <tr>\n",
       "      <th>F1_Score(severe_toxic )</th>\n",
       "      <td>0.930886</td>\n",
       "      <td>0.882989</td>\n",
       "      <td>0.790541</td>\n",
       "      <td>0.923541</td>\n",
       "      <td>0.934899</td>\n",
       "      <td>0.936763</td>\n",
       "    </tr>\n",
       "    <tr>\n",
       "      <th>F1_Score(obscene)</th>\n",
       "      <td>0.918546</td>\n",
       "      <td>0.442404</td>\n",
       "      <td>0.781800</td>\n",
       "      <td>0.902531</td>\n",
       "      <td>0.932235</td>\n",
       "      <td>0.912281</td>\n",
       "    </tr>\n",
       "    <tr>\n",
       "      <th>F1_Score(threat)</th>\n",
       "      <td>0.897527</td>\n",
       "      <td>0.834483</td>\n",
       "      <td>0.781421</td>\n",
       "      <td>0.921053</td>\n",
       "      <td>0.883392</td>\n",
       "      <td>0.902778</td>\n",
       "    </tr>\n",
       "    <tr>\n",
       "      <th>F1_Score(insult)</th>\n",
       "      <td>0.901987</td>\n",
       "      <td>0.326688</td>\n",
       "      <td>0.779774</td>\n",
       "      <td>0.895453</td>\n",
       "      <td>0.912940</td>\n",
       "      <td>0.892602</td>\n",
       "    </tr>\n",
       "    <tr>\n",
       "      <th>F1_Score(Identity_hate)</th>\n",
       "      <td>0.886420</td>\n",
       "      <td>0.781836</td>\n",
       "      <td>0.789981</td>\n",
       "      <td>0.909091</td>\n",
       "      <td>0.900966</td>\n",
       "      <td>0.878220</td>\n",
       "    </tr>\n",
       "  </tbody>\n",
       "</table>\n",
       "</div>"
      ],
      "text/plain": [
       "                         logistics regression       knn  BaayesNB  \\\n",
       "F1_Score(Toxic)                      0.883631  0.498107  0.764041   \n",
       "F1_Score(severe_toxic )              0.930886  0.882989  0.790541   \n",
       "F1_Score(obscene)                    0.918546  0.442404  0.781800   \n",
       "F1_Score(threat)                     0.897527  0.834483  0.781421   \n",
       "F1_Score(insult)                     0.901987  0.326688  0.779774   \n",
       "F1_Score(Identity_hate)              0.886420  0.781836  0.789981   \n",
       "\n",
       "                         MultinomialNB  LinearSVC  RandomForest  \n",
       "F1_Score(Toxic)               0.873308   0.886505      0.852182  \n",
       "F1_Score(severe_toxic )       0.923541   0.934899      0.936763  \n",
       "F1_Score(obscene)             0.902531   0.932235      0.912281  \n",
       "F1_Score(threat)              0.921053   0.883392      0.902778  \n",
       "F1_Score(insult)              0.895453   0.912940      0.892602  \n",
       "F1_Score(Identity_hate)       0.909091   0.900966      0.878220  "
      ]
     },
     "execution_count": 28,
     "metadata": {},
     "output_type": "execute_result"
    }
   ],
   "source": [
    "Result_df_tr"
   ]
  },
  {
   "cell_type": "code",
   "execution_count": 29,
   "metadata": {},
   "outputs": [
    {
     "data": {
      "text/plain": [
       "Text(0.5, 1.0, 'F1 score of Ml models used')"
      ]
     },
     "execution_count": 29,
     "metadata": {},
     "output_type": "execute_result"
    },
    {
     "data": {
      "image/png": "[encoded data removed]",
      "text/plain": [
       "<Figure size 432x288 with 1 Axes>"
      ]
     },
     "metadata": {
      "needs_background": "light"
     },
     "output_type": "display_data"
    }
   ],
   "source": [
    "sns.lineplot(data= Result_df_tr, markers= True)\n",
    "plt.xticks(rotation= '90', fontsize= 10)\n",
    "plt.yticks(fontsize= 10)\n",
    "plt.legend(loc= 'best')\n",
    "plt.title('F1 score of Ml models used', fontsize= 20)"
   ]
  },
  {
   "cell_type": "code",
   "execution_count": 30,
   "metadata": {},
   "outputs": [],
   "source": [
    "tfvectorizer= TfidfVectorizer(ngram_range= (1,1), stop_words= 'english')\n",
    "X_tox= data_types[0].comment_text\n",
    "y_tox= data_types[0].toxic\n",
    "vec_tox= tfvectorizer.fit_transform(X_tox)"
   ]
  },
  {
   "cell_type": "code",
   "execution_count": 31,
   "metadata": {},
   "outputs": [
    {
     "data": {
      "text/plain": [
       "(30588, 58887)"
      ]
     },
     "execution_count": 31,
     "metadata": {},
     "output_type": "execute_result"
    }
   ],
   "source": [
    "vec_tox.shape"
   ]
  },
  {
   "cell_type": "code",
   "execution_count": 48,
   "metadata": {},
   "outputs": [
    {
     "data": {
      "text/plain": [
       "LinearSVC()"
      ]
     },
     "execution_count": 48,
     "metadata": {},
     "output_type": "execute_result"
    }
   ],
   "source": [
    "svc= LinearSVC()\n",
    "svc.fit(vec_tox, y_tox)"
   ]
  },
  {
   "cell_type": "code",
   "execution_count": 54,
   "metadata": {},
   "outputs": [],
   "source": [
    "# The following comments are just for checking the models decision function. Using abusive language is not intentional\n",
    "sample1= ['Hey your shoes are ugly']\n",
    "sample2= ['Hey your shoes are ugly stupid']\n",
    "sample3= ['Hey your shoes are ugly moron']\n",
    "sample4= ['You are so sweet']\n",
    "sample5= ['Fuck you nigger']\n",
    "\n",
    "sample1_vect= tfvectorizer.transform(sample1)\n",
    "sample2_vect= tfvectorizer.transform(sample2)\n",
    "sample3_vect= tfvectorizer.transform(sample3)\n",
    "sample4_vect= tfvectorizer.transform(sample4)\n",
    "sample5_vect= tfvectorizer.transform(sample5)\n"
   ]
  },
  {
   "cell_type": "code",
   "execution_count": 55,
   "metadata": {},
   "outputs": [
    {
     "name": "stdout",
     "output_type": "stream",
     "text": [
      "Toxicity of sample 1: 0.7230125333001379\n",
      "Toxicity of sample 2: 0.9563103768512319\n",
      "Toxicity of sample 3: 0.9121967178284508\n",
      "Toxicity of sample 3: 0.44555143708449496\n",
      "Toxicity of sample 3: 0.9986575161569962\n"
     ]
    }
   ],
   "source": [
    "print(f'Toxicity of sample 1: {svc._predict_proba_lr(sample1_vect)[0][1]}')\n",
    "print(f'Toxicity of sample 2: {svc._predict_proba_lr(sample2_vect)[0][1]}')\n",
    "print(f'Toxicity of sample 3: {svc._predict_proba_lr(sample3_vect)[0][1]}')\n",
    "print(f'Toxicity of sample 3: {svc._predict_proba_lr(sample4_vect)[0][1]}')\n",
    "print(f'Toxicity of sample 3: {svc._predict_proba_lr(sample5_vect)[0][1]}')"
   ]
  },
  {
   "cell_type": "code",
   "execution_count": 56,
   "metadata": {},
   "outputs": [],
   "source": [
    "import pickle"
   ]
  },
  {
   "cell_type": "code",
   "execution_count": 59,
   "metadata": {},
   "outputs": [],
   "source": [
    "def pickling(df, label):\n",
    "    X= df['comment_text']\n",
    "    y= df[label]\n",
    "\n",
    "    tf_vectorizer= TfidfVectorizer()\n",
    "    X_vect= tf_vectorizer.fit_transform(X)\n",
    "\n",
    "    with open(r'{}.pkl'.format(label+'_vect'), 'wb') as f:\n",
    "        pickle.dump(tf_vectorizer, f)\n",
    "\n",
    "    svc= LinearSVC()\n",
    "    svc.fit(X_vect, y)\n",
    "\n",
    "    with open(r'{}.pkl'.format(label+ '_model'), 'wb') as f:\n",
    "        pickle.dump(svc, f)"
   ]
  },
  {
   "cell_type": "code",
   "execution_count": 60,
   "metadata": {},
   "outputs": [],
   "source": [
    "for i,j in zip(data_types,labels):\n",
    "    pickling(i, j)"
   ]
  }
 ],
 "metadata": {
  "interpreter": {
   "hash": "c569cd2e17f62341e0f08a54f9a867c3c0d3a6f67454072d7de41a8b5dff8343"
  },
  "kernelspec": {
   "display_name": "Python 3.9.6 64-bit",
   "language": "python",
   "name": "python3"
  },
  "language_info": {
   "codemirror_mode": {
    "name": "ipython",
    "version": 3
   },
   "file_extension": ".py",
   "mimetype": "text/x-python",
   "name": "python",
   "nbconvert_exporter": "python",
   "pygments_lexer": "ipython3",
   "version": "3.9.6"
  },
  "orig_nbformat": 4
 },
 "nbformat": 4,
 "nbformat_minor": 2
}
